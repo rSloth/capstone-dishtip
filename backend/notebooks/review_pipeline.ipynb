{
 "cells": [
  {
   "cell_type": "code",
   "execution_count": 4,
   "id": "756095dc",
   "metadata": {},
   "outputs": [],
   "source": [
    "# set correct path for imports for this notebook\n",
    "import sys, os\n",
    "sys.path.append(os.path.abspath(os.path.join(os.getcwd(), \"..\")))\n",
    "\n",
    "# external imports \n",
    "import logging\n",
    "logging.basicConfig(level=logging.INFO)\n",
    "\n",
    "# local imports\n",
    "from src.fetch.google_reviews import fetch_google_reviews \n",
    "from src.fetch.google_place import fetch_place_id, fetch_restaurant_info, Restaurant\n",
    "from src.nlp.dish_extractor import extract_dishes, _cached_extract_single\n",
    "from src.ranking.functions import assign_rankings\n",
    "from src.recommendation.recs import form_recommendations\n",
    "\n",
    "# Clear dish extractor cache to ensure fresh model load\n",
    "_cached_extract_single.cache_clear()\n"
   ]
  },
  {
   "cell_type": "code",
   "execution_count": 6,
   "id": "be19ec13",
   "metadata": {},
   "outputs": [
    {
     "name": "stderr",
     "output_type": "stream",
     "text": [
      "INFO:src.fetch.google_place:\n",
      " Found restaurant: FunkyFisch\n",
      "Kantstraße 135-136, 10625 Berlin, Deutschland\n",
      "ID = ChIJU7-KvONQqEcRCmPCCvo-Fg4\n",
      "\n",
      "INFO:src.fetch.google_place:\n",
      " Found restaurant: Standard Serious Pizza Charlottenburg\n",
      "Schlüterstraße 63, 10625 Berlin, Deutschland\n",
      "ID = ChIJc2uwDI1RqEcRfAsy3YxyfIY\n",
      "\n",
      "INFO:src.fetch.google_place:\n",
      " Found restaurant: Borchardt\n",
      "Französische Str. 47, 10117 Berlin, Deutschland\n",
      "ID = ChIJVfEmINtRqEcRsch0pslaanQ\n",
      "\n",
      "INFO:src.fetch.google_place:\n",
      " Found restaurant: Gio's\n",
      "Dresdener Str. 16, 10999 Berlin, Deutschland\n",
      "ID = ChIJ65Liv5JPqEcRodr8aFFNAvE\n",
      "\n"
     ]
    },
    {
     "data": {
      "text/plain": [
       "'ChIJ65Liv5JPqEcRodr8aFFNAvE'"
      ]
     },
     "execution_count": 6,
     "metadata": {},
     "output_type": "execute_result"
    }
   ],
   "source": [
    "r1_id = fetch_place_id(\"funkyfish berlin\")\n",
    "r2_id = fetch_place_id(\"standard pizza west berlin\")\n",
    "r3_id = fetch_place_id(\"borschert berlin\")\n",
    "r4_id = fetch_place_id(\"Gio's Berlin\")\n",
    "\n",
    "r4_id "
   ]
  },
  {
   "cell_type": "code",
   "execution_count": 7,
   "id": "c1647bda",
   "metadata": {},
   "outputs": [],
   "source": [
    "r1 = Restaurant(r1_id)\n",
    "r4 = Restaurant(r4_id)"
   ]
  },
  {
   "cell_type": "code",
   "execution_count": 8,
   "id": "1b969c18",
   "metadata": {},
   "outputs": [
    {
     "data": {
      "text/plain": [
       "'ChIJU7-KvONQqEcRCmPCCvo-Fg4'"
      ]
     },
     "execution_count": 8,
     "metadata": {},
     "output_type": "execute_result"
    }
   ],
   "source": [
    "r1_id"
   ]
  },
  {
   "cell_type": "code",
   "execution_count": 9,
   "id": "0f7156c0",
   "metadata": {},
   "outputs": [
    {
     "name": "stderr",
     "output_type": "stream",
     "text": [
      "INFO:src.fetch.google_reviews:✅ Retrieved 5 reviews for FunkyFisch (EN)\n",
      "INFO:src.fetch.google_reviews:✅ Retrieved 5 reviews for Standard Pizza West (EN)\n",
      "INFO:src.fetch.google_reviews:✅ Retrieved 5 reviews for Borchardt (EN)\n",
      "INFO:src.fetch.google_reviews:✅ Retrieved 5 reviews for Gio's (EN)\n"
     ]
    }
   ],
   "source": [
    "r1_reviews = fetch_google_reviews(r1_id)\n",
    "r2_reviews = fetch_google_reviews(r2_id)\n",
    "r3_reviews = fetch_google_reviews(r3_id)\n",
    "r4_reviews = fetch_google_reviews(r4_id)"
   ]
  },
  {
   "cell_type": "code",
   "execution_count": 10,
   "id": "1a5cc6b6",
   "metadata": {},
   "outputs": [
    {
     "data": {
      "text/plain": [
       "[{'id': None,\n",
       "  'source': 'google',\n",
       "  'author': 'Nika Chugoshvili',\n",
       "  'text': 'Friendly cozy and family atmosphere with authentic food. Not too pretty but original. Taste is priority. Mini georgian bread was super nice, adjapsandali and dessert as well.',\n",
       "  'dishes': [],\n",
       "  'rating': 5,\n",
       "  'date': 1751374444,\n",
       "  'url': None,\n",
       "  'author_url': 'https://www.google.com/maps/contrib/109702310661589209222/reviews',\n",
       "  'language': 'en'},\n",
       " {'id': None,\n",
       "  'source': 'google',\n",
       "  'author': 'Gaia Tassinari',\n",
       "  'text': 'What a wonderful dining experience. Authentic delicious food, lovely service, amazing red wine. Thank you! Will be back for more.',\n",
       "  'dishes': [],\n",
       "  'rating': 5,\n",
       "  'date': 1755459365,\n",
       "  'url': None,\n",
       "  'author_url': 'https://www.google.com/maps/contrib/113896279646697196969/reviews',\n",
       "  'language': 'en'},\n",
       " {'id': None,\n",
       "  'source': 'google',\n",
       "  'author': 'Steven Tice',\n",
       "  'text': \"First experience with Georgian food, and it was amazing! The service was fantastic, and our server was kind enough to help us pick out excellent options for our first Georgian food experience (especially because we couldn't understand the menu). We also enjoyed Georgian beer and wine. Which were both delicious as well.\",\n",
       "  'dishes': [],\n",
       "  'rating': 5,\n",
       "  'date': 1757104922,\n",
       "  'url': None,\n",
       "  'author_url': 'https://www.google.com/maps/contrib/102575073644000772513/reviews',\n",
       "  'language': 'en'},\n",
       " {'id': None,\n",
       "  'source': 'google',\n",
       "  'author': 'Nick Orloff',\n",
       "  'text': \"An excellent meal.\\n\\nOur first time eating Georgian food, but it won't be our last!\\n\\nWith no idea what to order, we put ourselves in the hands of the wonderful waitress who suggested a great assortment of the 'must trys' on the menu and also recommended a bottle of excellent Georgian wine.\\n\\nEverything tasted amazing, the place is small and intimate, and has a real neighborhood vibe.\\n\\nHAVE THE DUMPLINGS!\",\n",
       "  'dishes': [],\n",
       "  'rating': 5,\n",
       "  'date': 1759490727,\n",
       "  'url': None,\n",
       "  'author_url': 'https://www.google.com/maps/contrib/104526757664253701808/reviews',\n",
       "  'language': 'en'},\n",
       " {'id': None,\n",
       "  'source': 'google',\n",
       "  'author': 'Angelina Fedorenko',\n",
       "  'text': 'If you know what is georgian cuisine - this is the closest to authentic experience!\\nI am big fan of gc and tried all restaurants in Berlin, so far here - BEST KHINKALI WITH MEAT! With kinza and hot pepper, if you know what i mean. Khachapuri imeruli and khinkali with cheese also 10/10.\\nIt seems like a georgian family is running the place, you can see georgian grandma cooking and kind georgian girls serving - this is the sign of quality ❤️\\n\\nPs. They had a window before on Kotti ring,  now it is a real dining experince, very nice!',\n",
       "  'dishes': [],\n",
       "  'rating': 5,\n",
       "  'date': 1742291482,\n",
       "  'url': None,\n",
       "  'author_url': 'https://www.google.com/maps/contrib/113918346552918994721/reviews',\n",
       "  'language': 'en'}]"
      ]
     },
     "execution_count": 10,
     "metadata": {},
     "output_type": "execute_result"
    }
   ],
   "source": [
    "r4_reviews"
   ]
  },
  {
   "cell_type": "code",
   "execution_count": 11,
   "id": "638af345",
   "metadata": {},
   "outputs": [
    {
     "name": "stderr",
     "output_type": "stream",
     "text": [
      "INFO:src.nlp.dish_extractor:Loading model: google/flan-t5-large ...\n",
      "Device set to use cpu\n",
      "The following generation flags are not valid and may be ignored: ['temperature']. Set `TRANSFORMERS_VERBOSITY=info` for more details.\n",
      "INFO:src.nlp.dish_extractor:Model loaded successfully.\n",
      "INFO:src.nlp.dish_extractor:📝 Friendly cozy and family atmosphere with authentic food. Not too pretty but original. Taste is priority. Mini georgian bread was super nice, adjapsandali and dessert as well.\n",
      "INFO:src.nlp.dish_extractor:🍽️ adjapsandali, mini georgian bread, dessert\n",
      "\n",
      "INFO:src.nlp.dish_extractor:📝 What a wonderful dining experience. Authentic delicious food, lovely service, amazing red wine. Thank you! Will be back for more.\n",
      "INFO:src.nlp.dish_extractor:🍽️ none\n",
      "\n",
      "INFO:src.nlp.dish_extractor:📝 First experience with Georgian food, and it was amazing! The service was fantastic, and our server was kind enough to help us pick out excellent options for our first Georgian food experience (especially because we couldn't understand the menu). We also enjoyed Georgian beer and wine. Which were both delicious as well.\n",
      "INFO:src.nlp.dish_extractor:🍽️ none\n",
      "\n",
      "INFO:src.nlp.dish_extractor:📝 An excellent meal.\n",
      "\n",
      "Our first time eating Georgian food, but it won't be our last!\n",
      "\n",
      "With no idea what to order, we put ourselves in the hands of the wonderful waitress who suggested a great assortment of the 'must trys' on the menu and also recommended a bottle of excellent Georgian wine.\n",
      "\n",
      "Everything tasted amazing, the place is small and intimate, and has a real neighborhood vibe.\n",
      "\n",
      "HAVE THE DUMPLINGS!\n",
      "INFO:src.nlp.dish_extractor:🍽️ dumplings\n",
      "\n",
      "INFO:src.nlp.dish_extractor:📝 If you know what is georgian cuisine - this is the closest to authentic experience!\n",
      "I am big fan of gc and tried all restaurants in Berlin, so far here - BEST KHINKALI WITH MEAT! With kinza and hot pepper, if you know what i mean. Khachapuri imeruli and khinkali with cheese also 10/10.\n",
      "It seems like a georgian family is running the place, you can see georgian grandma cooking and kind georgian girls serving - this is the sign of quality ❤️\n",
      "\n",
      "Ps. They had a window before on Kotti ring,  now it is a\n",
      "INFO:src.nlp.dish_extractor:🍽️ khinkali with meat, khachapuri imeruli, khinkali with cheese\n",
      "\n"
     ]
    },
    {
     "data": {
      "text/plain": [
       "[{'id': None,\n",
       "  'source': 'google',\n",
       "  'author': 'Nika Chugoshvili',\n",
       "  'text': 'Friendly cozy and family atmosphere with authentic food. Not too pretty but original. Taste is priority. Mini georgian bread was super nice, adjapsandali and dessert as well.',\n",
       "  'dishes': [{'name': 'adjapsandali', 'ranking': None},\n",
       "   {'name': 'mini georgian bread', 'ranking': None},\n",
       "   {'name': 'dessert', 'ranking': None}],\n",
       "  'rating': 5,\n",
       "  'date': 1751374444,\n",
       "  'url': None,\n",
       "  'author_url': 'https://www.google.com/maps/contrib/109702310661589209222/reviews',\n",
       "  'language': 'en'},\n",
       " {'id': None,\n",
       "  'source': 'google',\n",
       "  'author': 'Gaia Tassinari',\n",
       "  'text': 'What a wonderful dining experience. Authentic delicious food, lovely service, amazing red wine. Thank you! Will be back for more.',\n",
       "  'dishes': [],\n",
       "  'rating': 5,\n",
       "  'date': 1755459365,\n",
       "  'url': None,\n",
       "  'author_url': 'https://www.google.com/maps/contrib/113896279646697196969/reviews',\n",
       "  'language': 'en'},\n",
       " {'id': None,\n",
       "  'source': 'google',\n",
       "  'author': 'Steven Tice',\n",
       "  'text': \"First experience with Georgian food, and it was amazing! The service was fantastic, and our server was kind enough to help us pick out excellent options for our first Georgian food experience (especially because we couldn't understand the menu). We also enjoyed Georgian beer and wine. Which were both delicious as well.\",\n",
       "  'dishes': [],\n",
       "  'rating': 5,\n",
       "  'date': 1757104922,\n",
       "  'url': None,\n",
       "  'author_url': 'https://www.google.com/maps/contrib/102575073644000772513/reviews',\n",
       "  'language': 'en'},\n",
       " {'id': None,\n",
       "  'source': 'google',\n",
       "  'author': 'Nick Orloff',\n",
       "  'text': \"An excellent meal.\\n\\nOur first time eating Georgian food, but it won't be our last!\\n\\nWith no idea what to order, we put ourselves in the hands of the wonderful waitress who suggested a great assortment of the 'must trys' on the menu and also recommended a bottle of excellent Georgian wine.\\n\\nEverything tasted amazing, the place is small and intimate, and has a real neighborhood vibe.\\n\\nHAVE THE DUMPLINGS!\",\n",
       "  'dishes': [{'name': 'dumplings', 'ranking': None}],\n",
       "  'rating': 5,\n",
       "  'date': 1759490727,\n",
       "  'url': None,\n",
       "  'author_url': 'https://www.google.com/maps/contrib/104526757664253701808/reviews',\n",
       "  'language': 'en'},\n",
       " {'id': None,\n",
       "  'source': 'google',\n",
       "  'author': 'Angelina Fedorenko',\n",
       "  'text': 'If you know what is georgian cuisine - this is the closest to authentic experience!\\nI am big fan of gc and tried all restaurants in Berlin, so far here - BEST KHINKALI WITH MEAT! With kinza and hot pepper, if you know what i mean. Khachapuri imeruli and khinkali with cheese also 10/10.\\nIt seems like a georgian family is running the place, you can see georgian grandma cooking and kind georgian girls serving - this is the sign of quality ❤️\\n\\nPs. They had a window before on Kotti ring,  now it is a real dining experince, very nice!',\n",
       "  'dishes': [{'name': 'khinkali with meat', 'ranking': None},\n",
       "   {'name': 'khachapuri imeruli', 'ranking': None},\n",
       "   {'name': 'khinkali with cheese', 'ranking': None}],\n",
       "  'rating': 5,\n",
       "  'date': 1742291482,\n",
       "  'url': None,\n",
       "  'author_url': 'https://www.google.com/maps/contrib/113918346552918994721/reviews',\n",
       "  'language': 'en'}]"
      ]
     },
     "execution_count": 11,
     "metadata": {},
     "output_type": "execute_result"
    }
   ],
   "source": [
    "extract_dishes(r4_reviews, True)"
   ]
  },
  {
   "cell_type": "code",
   "execution_count": 12,
   "id": "498fa37b",
   "metadata": {},
   "outputs": [
    {
     "name": "stdout",
     "output_type": "stream",
     "text": [
      "Assigned ranking -1 to dish 'adjapsandali' in review #None\n",
      "Assigned ranking -1 to dish 'mini georgian bread' in review #None\n",
      "Assigned ranking -1 to dish 'dessert' in review #None\n",
      "Assigned ranking -1 to dish 'dumplings' in review #None\n",
      "Assigned ranking -1 to dish 'khinkali with meat' in review #None\n",
      "Assigned ranking -1 to dish 'khachapuri imeruli' in review #None\n",
      "Assigned ranking -1 to dish 'khinkali with cheese' in review #None\n"
     ]
    }
   ],
   "source": [
    "assign_rankings(r4_reviews, True)"
   ]
  },
  {
   "cell_type": "code",
   "execution_count": 13,
   "id": "5278f1bd",
   "metadata": {},
   "outputs": [
    {
     "data": {
      "text/plain": [
       "[{'id': None,\n",
       "  'source': 'google',\n",
       "  'author': 'Nika Chugoshvili',\n",
       "  'text': 'Friendly cozy and family atmosphere with authentic food. Not too pretty but original. Taste is priority. Mini georgian bread was super nice, adjapsandali and dessert as well.',\n",
       "  'dishes': [{'name': 'adjapsandali', 'ranking': -1},\n",
       "   {'name': 'mini georgian bread', 'ranking': -1},\n",
       "   {'name': 'dessert', 'ranking': -1}],\n",
       "  'rating': 5,\n",
       "  'date': 1751374444,\n",
       "  'url': None,\n",
       "  'author_url': 'https://www.google.com/maps/contrib/109702310661589209222/reviews',\n",
       "  'language': 'en'},\n",
       " {'id': None,\n",
       "  'source': 'google',\n",
       "  'author': 'Gaia Tassinari',\n",
       "  'text': 'What a wonderful dining experience. Authentic delicious food, lovely service, amazing red wine. Thank you! Will be back for more.',\n",
       "  'dishes': [],\n",
       "  'rating': 5,\n",
       "  'date': 1755459365,\n",
       "  'url': None,\n",
       "  'author_url': 'https://www.google.com/maps/contrib/113896279646697196969/reviews',\n",
       "  'language': 'en'},\n",
       " {'id': None,\n",
       "  'source': 'google',\n",
       "  'author': 'Steven Tice',\n",
       "  'text': \"First experience with Georgian food, and it was amazing! The service was fantastic, and our server was kind enough to help us pick out excellent options for our first Georgian food experience (especially because we couldn't understand the menu). We also enjoyed Georgian beer and wine. Which were both delicious as well.\",\n",
       "  'dishes': [],\n",
       "  'rating': 5,\n",
       "  'date': 1757104922,\n",
       "  'url': None,\n",
       "  'author_url': 'https://www.google.com/maps/contrib/102575073644000772513/reviews',\n",
       "  'language': 'en'},\n",
       " {'id': None,\n",
       "  'source': 'google',\n",
       "  'author': 'Nick Orloff',\n",
       "  'text': \"An excellent meal.\\n\\nOur first time eating Georgian food, but it won't be our last!\\n\\nWith no idea what to order, we put ourselves in the hands of the wonderful waitress who suggested a great assortment of the 'must trys' on the menu and also recommended a bottle of excellent Georgian wine.\\n\\nEverything tasted amazing, the place is small and intimate, and has a real neighborhood vibe.\\n\\nHAVE THE DUMPLINGS!\",\n",
       "  'dishes': [{'name': 'dumplings', 'ranking': -1}],\n",
       "  'rating': 5,\n",
       "  'date': 1759490727,\n",
       "  'url': None,\n",
       "  'author_url': 'https://www.google.com/maps/contrib/104526757664253701808/reviews',\n",
       "  'language': 'en'},\n",
       " {'id': None,\n",
       "  'source': 'google',\n",
       "  'author': 'Angelina Fedorenko',\n",
       "  'text': 'If you know what is georgian cuisine - this is the closest to authentic experience!\\nI am big fan of gc and tried all restaurants in Berlin, so far here - BEST KHINKALI WITH MEAT! With kinza and hot pepper, if you know what i mean. Khachapuri imeruli and khinkali with cheese also 10/10.\\nIt seems like a georgian family is running the place, you can see georgian grandma cooking and kind georgian girls serving - this is the sign of quality ❤️\\n\\nPs. They had a window before on Kotti ring,  now it is a real dining experince, very nice!',\n",
       "  'dishes': [{'name': 'khinkali with meat', 'ranking': -1},\n",
       "   {'name': 'khachapuri imeruli', 'ranking': -1},\n",
       "   {'name': 'khinkali with cheese', 'ranking': -1}],\n",
       "  'rating': 5,\n",
       "  'date': 1742291482,\n",
       "  'url': None,\n",
       "  'author_url': 'https://www.google.com/maps/contrib/113918346552918994721/reviews',\n",
       "  'language': 'en'}]"
      ]
     },
     "execution_count": 13,
     "metadata": {},
     "output_type": "execute_result"
    }
   ],
   "source": [
    "r4_reviews"
   ]
  },
  {
   "cell_type": "code",
   "execution_count": 14,
   "id": "649be977",
   "metadata": {},
   "outputs": [
    {
     "data": {
      "text/plain": [
       "[{'dish_name': 'adjapsandali',\n",
       "  'ranking': -1,\n",
       "  'author': 'Nika Chugoshvili',\n",
       "  'source': 'google',\n",
       "  'timestamp': 1751374444,\n",
       "  'review_link': None},\n",
       " {'dish_name': 'mini georgian bread',\n",
       "  'ranking': -1,\n",
       "  'author': 'Nika Chugoshvili',\n",
       "  'source': 'google',\n",
       "  'timestamp': 1751374444,\n",
       "  'review_link': None},\n",
       " {'dish_name': 'dessert',\n",
       "  'ranking': -1,\n",
       "  'author': 'Nika Chugoshvili',\n",
       "  'source': 'google',\n",
       "  'timestamp': 1751374444,\n",
       "  'review_link': None},\n",
       " {'dish_name': 'dumplings',\n",
       "  'ranking': -1,\n",
       "  'author': 'Nick Orloff',\n",
       "  'source': 'google',\n",
       "  'timestamp': 1759490727,\n",
       "  'review_link': None},\n",
       " {'dish_name': 'khinkali with meat',\n",
       "  'ranking': -1,\n",
       "  'author': 'Angelina Fedorenko',\n",
       "  'source': 'google',\n",
       "  'timestamp': 1742291482,\n",
       "  'review_link': None},\n",
       " {'dish_name': 'khachapuri imeruli',\n",
       "  'ranking': -1,\n",
       "  'author': 'Angelina Fedorenko',\n",
       "  'source': 'google',\n",
       "  'timestamp': 1742291482,\n",
       "  'review_link': None},\n",
       " {'dish_name': 'khinkali with cheese',\n",
       "  'ranking': -1,\n",
       "  'author': 'Angelina Fedorenko',\n",
       "  'source': 'google',\n",
       "  'timestamp': 1742291482,\n",
       "  'review_link': None}]"
      ]
     },
     "execution_count": 14,
     "metadata": {},
     "output_type": "execute_result"
    }
   ],
   "source": [
    "form_recommendations(r4_reviews)\n"
   ]
  },
  {
   "cell_type": "code",
   "execution_count": 15,
   "id": "72961258",
   "metadata": {},
   "outputs": [
    {
     "name": "stdout",
     "output_type": "stream",
     "text": [
      "2.9.0+cpu 0.24.0+cpu\n",
      "CUDA available: False\n"
     ]
    }
   ],
   "source": [
    "import torch, torchvision\n",
    "print(torch.__version__, torchvision.__version__)\n",
    "print(\"CUDA available:\", torch.cuda.is_available())\n"
   ]
  },
  {
   "cell_type": "code",
   "execution_count": 22,
   "id": "2515d028",
   "metadata": {},
   "outputs": [
    {
     "name": "stderr",
     "output_type": "stream",
     "text": [
      "INFO:src.fetch.google_reviews:✅ Retrieved 5 reviews for Borchardt (EN)\n",
      "INFO:src.nlp.dish_extractor:📝 We made a reservation at this German restaurant for lunch. The service was okay, but our main dishes were left out initially.\n",
      "\n",
      "The tartar and schnitzel were delicious, and the portions were generous. However, the seasonal menu of the deer was average.\n",
      "INFO:src.nlp.dish_extractor:🍽️ schnitzel, tartar\n",
      "\n",
      "INFO:src.nlp.dish_extractor:📝 Borchardt is an exceptional place to celebrate special occasions or have a date. Perfect german food, made of high-quality ingredients, in combination with sweet cocktail and freshly-made bread will gift you one of the best gastronomical experiences of your whole life. Atmosphere is quite fancy, and the food prices are higher than in ordinary places in Berlin, and it is totally justified, given the history of the place and the level of service.\n",
      "And all I would say — it is definitely worth every \n",
      "INFO:src.nlp.dish_extractor:🍽️ schnitzel, schnit\n",
      "\n",
      "INFO:src.nlp.dish_extractor:📝 Borchardt is a true Berlin classic! We had the Wiener Schnitzel – golden, crispy, and absolutely delicious – and the steak tartare, which had a fresh and original flavor. The atmosphere is elegant yet welcoming, perfect for a relaxed evening. Prices are a bit high, but for the taste and experience, it’s definitely worth it!\n",
      "INFO:src.nlp.dish_extractor:🍽️ steak tartare, wiener schnitzel\n",
      "\n",
      "INFO:src.nlp.dish_extractor:📝 Traditional  german restaurant.  Service was very nice. I had the famous veal schnitzel, with cranberries and hot potato salad. Prices on the higher end, but worth every euro.\n",
      "INFO:src.nlp.dish_extractor:🍽️ cranberries, veal schnitzel, hot potato salad\n",
      "\n",
      "INFO:src.nlp.dish_extractor:📝 I tried cod for the first time instead of schnitzel, and I received a great recommendation for an alcohol-free Riesling. Overall, it was an okay experience, but I found it to be overpriced for the quality of the food. It seems that the pricing is more about the location and status than the quality of the meal itself.\n",
      "INFO:src.nlp.dish_extractor:🍽️ schnitzel, cod\n",
      "\n"
     ]
    },
    {
     "name": "stdout",
     "output_type": "stream",
     "text": [
      "Assigned ranking -1 to dish 'schnitzel' in review #None\n",
      "Assigned ranking -1 to dish 'tartar' in review #None\n",
      "Assigned ranking -1 to dish 'schnitzel' in review #None\n",
      "Assigned ranking -1 to dish 'schnit' in review #None\n",
      "Assigned ranking -1 to dish 'steak tartare' in review #None\n",
      "Assigned ranking -1 to dish 'wiener schnitzel' in review #None\n",
      "Assigned ranking -1 to dish 'cranberries' in review #None\n",
      "Assigned ranking -1 to dish 'veal schnitzel' in review #None\n",
      "Assigned ranking -1 to dish 'hot potato salad' in review #None\n",
      "Assigned ranking -1 to dish 'schnitzel' in review #None\n",
      "Assigned ranking -1 to dish 'cod' in review #None\n"
     ]
    },
    {
     "data": {
      "text/plain": [
       "[{'dish_name': 'schnitzel',\n",
       "  'ranking': -1,\n",
       "  'author': 'Y T',\n",
       "  'source': 'google',\n",
       "  'timestamp': 1760791579,\n",
       "  'review_link': None},\n",
       " {'dish_name': 'tartar',\n",
       "  'ranking': -1,\n",
       "  'author': 'Y T',\n",
       "  'source': 'google',\n",
       "  'timestamp': 1760791579,\n",
       "  'review_link': None},\n",
       " {'dish_name': 'schnitzel',\n",
       "  'ranking': -1,\n",
       "  'author': 'Олександра Карасьова',\n",
       "  'source': 'google',\n",
       "  'timestamp': 1760206989,\n",
       "  'review_link': None},\n",
       " {'dish_name': 'schnit',\n",
       "  'ranking': -1,\n",
       "  'author': 'Олександра Карасьова',\n",
       "  'source': 'google',\n",
       "  'timestamp': 1760206989,\n",
       "  'review_link': None},\n",
       " {'dish_name': 'steak tartare',\n",
       "  'ranking': -1,\n",
       "  'author': 'SEZER BULUT',\n",
       "  'source': 'google',\n",
       "  'timestamp': 1759520444,\n",
       "  'review_link': None},\n",
       " {'dish_name': 'wiener schnitzel',\n",
       "  'ranking': -1,\n",
       "  'author': 'SEZER BULUT',\n",
       "  'source': 'google',\n",
       "  'timestamp': 1759520444,\n",
       "  'review_link': None},\n",
       " {'dish_name': 'cranberries',\n",
       "  'ranking': -1,\n",
       "  'author': 'Anna Mas',\n",
       "  'source': 'google',\n",
       "  'timestamp': 1759225146,\n",
       "  'review_link': None},\n",
       " {'dish_name': 'veal schnitzel',\n",
       "  'ranking': -1,\n",
       "  'author': 'Anna Mas',\n",
       "  'source': 'google',\n",
       "  'timestamp': 1759225146,\n",
       "  'review_link': None},\n",
       " {'dish_name': 'hot potato salad',\n",
       "  'ranking': -1,\n",
       "  'author': 'Anna Mas',\n",
       "  'source': 'google',\n",
       "  'timestamp': 1759225146,\n",
       "  'review_link': None},\n",
       " {'dish_name': 'schnitzel',\n",
       "  'ranking': -1,\n",
       "  'author': 'Rebeca Kodaira',\n",
       "  'source': 'google',\n",
       "  'timestamp': 1758006827,\n",
       "  'review_link': None},\n",
       " {'dish_name': 'cod',\n",
       "  'ranking': -1,\n",
       "  'author': 'Rebeca Kodaira',\n",
       "  'source': 'google',\n",
       "  'timestamp': 1758006827,\n",
       "  'review_link': None}]"
      ]
     },
     "execution_count": 22,
     "metadata": {},
     "output_type": "execute_result"
    }
   ],
   "source": [
    "place_id = \"ChIJVfEmINtRqEcRsch0pslaanQ\"\n",
    "reviews = fetch_google_reviews(place_id)\n",
    "reviews = extract_dishes(reviews, True)\n",
    "assign_rankings(reviews, True)\n",
    "recommendations = form_recommendations(reviews)\n",
    "recommendations"
   ]
  }
 ],
 "metadata": {
  "kernelspec": {
   "display_name": ".venv",
   "language": "python",
   "name": "python3"
  },
  "language_info": {
   "codemirror_mode": {
    "name": "ipython",
    "version": 3
   },
   "file_extension": ".py",
   "mimetype": "text/x-python",
   "name": "python",
   "nbconvert_exporter": "python",
   "pygments_lexer": "ipython3",
   "version": "3.11.3"
  }
 },
 "nbformat": 4,
 "nbformat_minor": 5
}
