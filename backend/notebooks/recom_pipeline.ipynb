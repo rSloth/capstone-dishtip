{
 "cells": [
  {
   "cell_type": "code",
   "execution_count": null,
   "id": "756095dc",
   "metadata": {},
   "outputs": [
    {
     "name": "stderr",
     "output_type": "stream",
     "text": [
      "INFO:src.nlp.dish_extractor:✅ Using 8 CPU threads for PyTorch\n"
     ]
    }
   ],
   "source": [
    "# set correct path for imports for this notebook\n",
    "import sys, os\n",
    "sys.path.append(os.path.abspath(os.path.join(os.getcwd(), \"..\")))\n",
    "\n",
    "# external imports \n",
    "import logging\n",
    "logging.basicConfig(level=logging.INFO)\n",
    "\n",
    "# local imports\n",
    "from src.fetch.google_reviews import fetch_google_reviews \n",
    "from src.fetch.google_place import fetch_place_id, fetch_restaurant_info, Restaurant\n",
    "from backend.src.nlp.extractor_local import extract_dishes, _cached_extract_single\n",
    "from src.ranking.functions import assign_rankings\n",
    "from src.recommendation.recs import form_recommendations\n",
    "\n",
    "# Clear dish extractor cache to ensure fresh model load\n",
    "_cached_extract_single.cache_clear()\n"
   ]
  },
  {
   "cell_type": "code",
   "execution_count": null,
   "id": "be19ec13",
   "metadata": {},
   "outputs": [
    {
     "name": "stderr",
     "output_type": "stream",
     "text": [
      "INFO:src.fetch.google_place:\n",
      " Found restaurant: FunkyFisch\n",
      "Kantstraße 135-136, 10625 Berlin, Deutschland\n",
      "ID = ChIJU7-KvONQqEcRCmPCCvo-Fg4\n",
      "\n",
      "INFO:src.fetch.google_place:\n",
      " Found restaurant: Standard Serious Pizza Charlottenburg\n",
      "Schlüterstraße 63, 10625 Berlin, Deutschland\n",
      "ID = ChIJc2uwDI1RqEcRfAsy3YxyfIY\n",
      "\n",
      "INFO:src.fetch.google_place:\n",
      " Found restaurant: Borchardt\n",
      "Französische Str. 47, 10117 Berlin, Deutschland\n",
      "ID = ChIJVfEmINtRqEcRsch0pslaanQ\n",
      "\n",
      "INFO:src.fetch.google_place:\n",
      " Found restaurant: Gio's\n",
      "Dresdener Str. 16, 10999 Berlin, Deutschland\n",
      "ID = ChIJ65Liv5JPqEcRodr8aFFNAvE\n",
      "\n",
      "INFO:src.fetch.google_place:\n",
      " Found restaurant: Paolo Pinkel\n",
      "Karl-Marx-Straße 55, 12043 Berlin, Deutschland\n",
      "ID = ChIJpRECXmtPqEcRJMfokCTNvD8\n",
      "\n"
     ]
    },
    {
     "data": {
      "text/plain": [
       "'ChIJ65Liv5JPqEcRodr8aFFNAvE'"
      ]
     },
     "execution_count": 29,
     "metadata": {},
     "output_type": "execute_result"
    }
   ],
   "source": [
    "r1_id = fetch_place_id(\"funkyfish berlin\")\n",
    "r2_id = fetch_place_id(\"standard pizza west berlin\")\n",
    "r3_id = fetch_place_id(\"borschert berlin\")\n",
    "r4_id = fetch_place_id(\"Gio's Berlin\")\n",
    "\n",
    "r4_id "
   ]
  },
  {
   "cell_type": "code",
   "execution_count": 3,
   "id": "c1647bda",
   "metadata": {},
   "outputs": [],
   "source": [
    "r1 = Restaurant(r1_id)\n",
    "r4 = Restaurant(r4_id)"
   ]
  },
  {
   "cell_type": "code",
   "execution_count": 4,
   "id": "1b969c18",
   "metadata": {},
   "outputs": [
    {
     "data": {
      "text/plain": [
       "'ChIJU7-KvONQqEcRCmPCCvo-Fg4'"
      ]
     },
     "execution_count": 4,
     "metadata": {},
     "output_type": "execute_result"
    }
   ],
   "source": [
    "r1_id"
   ]
  },
  {
   "cell_type": "code",
   "execution_count": 14,
   "id": "0f7156c0",
   "metadata": {},
   "outputs": [
    {
     "name": "stderr",
     "output_type": "stream",
     "text": [
      "INFO:src.fetch.google_reviews:✅ Retrieved 5 reviews for FunkyFisch (EN)\n",
      "INFO:src.fetch.google_reviews:✅ Retrieved 5 reviews for Standard Pizza West (EN)\n",
      "INFO:src.fetch.google_reviews:✅ Retrieved 5 reviews for Borchardt (EN)\n",
      "INFO:src.fetch.google_reviews:✅ Retrieved 5 reviews for Gio's (EN)\n"
     ]
    }
   ],
   "source": [
    "r1_reviews = fetch_google_reviews(r1_id)\n",
    "r2_reviews = fetch_google_reviews(r2_id)\n",
    "r3_reviews = fetch_google_reviews(r3_id)\n",
    "r4_reviews = fetch_google_reviews(r4_id)"
   ]
  },
  {
   "cell_type": "code",
   "execution_count": null,
   "id": "1a5cc6b6",
   "metadata": {},
   "outputs": [
    {
     "name": "stderr",
     "output_type": "stream",
     "text": [
      "INFO:src.fetch.google_reviews:✅ Retrieved 5 reviews for Paolo Pinkel (EN)\n",
      "INFO:src.nlp.extractor_openai:🚀 Starting extraction for 5 text chunks...\n",
      "INFO:httpx:HTTP Request: POST https://api.openai.com/v1/responses \"HTTP/1.1 200 OK\"\n",
      "INFO:httpx:HTTP Request: POST https://api.openai.com/v1/responses \"HTTP/1.1 200 OK\"\n",
      "INFO:httpx:HTTP Request: POST https://api.openai.com/v1/responses \"HTTP/1.1 200 OK\"\n",
      "INFO:httpx:HTTP Request: POST https://api.openai.com/v1/responses \"HTTP/1.1 200 OK\"\n",
      "INFO:httpx:HTTP Request: POST https://api.openai.com/v1/responses \"HTTP/1.1 200 OK\"\n",
      "INFO:src.nlp.extractor_openai:✅ Completed dish extraction for 5 reviews in 4.75s\n"
     ]
    },
    {
     "data": {
      "text/plain": [
       "[{'id': None,\n",
       "  'source': 'google',\n",
       "  'author': 'Gorka Biern',\n",
       "  'text': 'Good food, good music, good people! We had some problems with the order (they forgot to bring 2 dishes) but it was solved and we enjoyed the meal. Big plates and tasty! Nice cocktails too.',\n",
       "  'dishes': [],\n",
       "  'rating': 4,\n",
       "  'date': 1747644232,\n",
       "  'url': None,\n",
       "  'author_url': 'https://www.google.com/maps/contrib/103605384736928070620/reviews',\n",
       "  'language': 'en'},\n",
       " {'id': None,\n",
       "  'source': 'google',\n",
       "  'author': 'Deer Ozzie',\n",
       "  'text': 'one of my favorite places in Neukölln.\\nI have been so many times and every time I am 100% satisfied. I loved the ceviche, the roastbeef and the schnitzel! The waiters are also so friendly❤️',\n",
       "  'dishes': [],\n",
       "  'rating': 5,\n",
       "  'date': 1749415038,\n",
       "  'url': None,\n",
       "  'author_url': 'https://www.google.com/maps/contrib/116650280114912458563/reviews',\n",
       "  'language': 'en'},\n",
       " {'id': None,\n",
       "  'source': 'google',\n",
       "  'author': 'M K',\n",
       "  'text': 'The restaurant was absolutely packed when we arrived, but the staff managed to squeeze us in, which I very much appreciate as I know how much of a hassle that can be. The staff did take while to get to our table, but that is very understandable as there were a lot of guests (which is why I didn’t deduct a point from the service)\\nThe food was very good especially the fried chicken was delicious. The fries however were just ok.\\nGenerally I might go there again, but it wouldn’t be my go to.',\n",
       "  'dishes': [{'name': 'fried chicken', 'ranking': None},\n",
       "   {'name': 'fries', 'ranking': None}],\n",
       "  'rating': 4,\n",
       "  'date': 1743849235,\n",
       "  'url': None,\n",
       "  'author_url': 'https://www.google.com/maps/contrib/113144311423849790665/reviews',\n",
       "  'language': 'en'},\n",
       " {'id': None,\n",
       "  'source': 'google',\n",
       "  'author': 'Pankaj Thakur',\n",
       "  'text': 'Was Vibe until 10:30 PM. After that, no loud music is allowed.\\nI was there last Friday for an event by the DNA Art club. Cozy vibes, nice drinks.\\nI would have loved it if there were no issue with volume.',\n",
       "  'dishes': [{'name': 'korean fried chicken', 'ranking': None},\n",
       "   {'name': 'kimcheese fries', 'ranking': None}],\n",
       "  'rating': 4,\n",
       "  'date': 1756387654,\n",
       "  'url': None,\n",
       "  'author_url': 'https://www.google.com/maps/contrib/115470447847817778658/reviews',\n",
       "  'language': 'en'},\n",
       " {'id': None,\n",
       "  'source': 'google',\n",
       "  'author': 'Nadine Co',\n",
       "  'text': 'We ordered korean fried chicken and kimcheese fries from Eating Fantasy. Absolutely amazing! Would really recommend to try it! :)\\nThe place is also spacious and accessible.',\n",
       "  'dishes': [{'name': 'schnitzel', 'ranking': None},\n",
       "   {'name': 'roastbeef', 'ranking': None},\n",
       "   {'name': 'ceviche', 'ranking': None}],\n",
       "  'rating': 5,\n",
       "  'date': 1740520451,\n",
       "  'url': None,\n",
       "  'author_url': 'https://www.google.com/maps/contrib/111398963178574701961/reviews',\n",
       "  'language': 'en'}]"
      ]
     },
     "execution_count": 30,
     "metadata": {},
     "output_type": "execute_result"
    }
   ],
   "source": [
    "extract_dishes_openai(r4_reviews)"
   ]
  },
  {
   "cell_type": "code",
   "execution_count": null,
   "id": "638af345",
   "metadata": {},
   "outputs": [
    {
     "name": "stderr",
     "output_type": "stream",
     "text": [
      "INFO:httpx:HTTP Request: POST https://api.openai.com/v1/responses \"HTTP/1.1 200 OK\"\n",
      "INFO:httpx:HTTP Request: POST https://api.openai.com/v1/responses \"HTTP/1.1 200 OK\"\n",
      "INFO:httpx:HTTP Request: POST https://api.openai.com/v1/responses \"HTTP/1.1 200 OK\"\n",
      "INFO:httpx:HTTP Request: POST https://api.openai.com/v1/responses \"HTTP/1.1 200 OK\"\n",
      "INFO:httpx:HTTP Request: POST https://api.openai.com/v1/responses \"HTTP/1.1 200 OK\"\n",
      "INFO:__main__:📝 Good food, good music, good people! We had some problems with the order (they forgot to bring 2 dishes) but it was solved and we enjoyed the meal. Big plates and tasty! Nice cocktails too.\n",
      "INFO:__main__:🍽️ none\n",
      "\n",
      "INFO:__main__:📝 one of my favorite places in Neukölln.\n",
      "I have been so many times and every time I am 100% satisfied. I loved the ceviche, the roastbeef and the schnitzel! The waiters are also so friendly❤️\n",
      "INFO:__main__:🍽️ schnitzel, roastbeef, ceviche\n",
      "\n",
      "INFO:__main__:📝 The restaurant was absolutely packed when we arrived, but the staff managed to squeeze us in, which I very much appreciate as I know how much of a hassle that can be. The staff did take while to get to our table, but that is very understandable as there were a lot of guests (which is why I didn’t deduct a point from the service)\n",
      "The food was very good especially the fried chicken was delicious. The fries however were just ok.\n",
      "Generally I might go there again, but it wouldn’t be my go to.\n",
      "INFO:__main__:🍽️ fried chicken, fries\n",
      "\n",
      "INFO:__main__:📝 Was Vibe until 10:30 PM. After that, no loud music is allowed.\n",
      "I was there last Friday for an event by the DNA Art club. Cozy vibes, nice drinks.\n",
      "I would have loved it if there were no issue with volume.\n",
      "INFO:__main__:🍽️ none\n",
      "\n",
      "INFO:__main__:📝 We ordered korean fried chicken and kimcheese fries from Eating Fantasy. Absolutely amazing! Would really recommend to try it! :)\n",
      "The place is also spacious and accessible.\n",
      "INFO:__main__:🍽️ korean fried chicken, kimcheese fries\n",
      "\n"
     ]
    },
    {
     "data": {
      "text/plain": [
       "[{'id': None,\n",
       "  'source': 'google',\n",
       "  'author': 'Gorka Biern',\n",
       "  'text': 'Good food, good music, good people! We had some problems with the order (they forgot to bring 2 dishes) but it was solved and we enjoyed the meal. Big plates and tasty! Nice cocktails too.',\n",
       "  'dishes': [],\n",
       "  'rating': 4,\n",
       "  'date': 1747644232,\n",
       "  'url': None,\n",
       "  'author_url': 'https://www.google.com/maps/contrib/103605384736928070620/reviews',\n",
       "  'language': 'en'},\n",
       " {'id': None,\n",
       "  'source': 'google',\n",
       "  'author': 'Deer Ozzie',\n",
       "  'text': 'one of my favorite places in Neukölln.\\nI have been so many times and every time I am 100% satisfied. I loved the ceviche, the roastbeef and the schnitzel! The waiters are also so friendly❤️',\n",
       "  'dishes': [{'name': 'schnitzel', 'ranking': None},\n",
       "   {'name': 'roastbeef', 'ranking': None},\n",
       "   {'name': 'ceviche', 'ranking': None}],\n",
       "  'rating': 5,\n",
       "  'date': 1749415038,\n",
       "  'url': None,\n",
       "  'author_url': 'https://www.google.com/maps/contrib/116650280114912458563/reviews',\n",
       "  'language': 'en'},\n",
       " {'id': None,\n",
       "  'source': 'google',\n",
       "  'author': 'M K',\n",
       "  'text': 'The restaurant was absolutely packed when we arrived, but the staff managed to squeeze us in, which I very much appreciate as I know how much of a hassle that can be. The staff did take while to get to our table, but that is very understandable as there were a lot of guests (which is why I didn’t deduct a point from the service)\\nThe food was very good especially the fried chicken was delicious. The fries however were just ok.\\nGenerally I might go there again, but it wouldn’t be my go to.',\n",
       "  'dishes': [{'name': 'fried chicken', 'ranking': None},\n",
       "   {'name': 'fries', 'ranking': None}],\n",
       "  'rating': 4,\n",
       "  'date': 1743849235,\n",
       "  'url': None,\n",
       "  'author_url': 'https://www.google.com/maps/contrib/113144311423849790665/reviews',\n",
       "  'language': 'en'},\n",
       " {'id': None,\n",
       "  'source': 'google',\n",
       "  'author': 'Pankaj Thakur',\n",
       "  'text': 'Was Vibe until 10:30 PM. After that, no loud music is allowed.\\nI was there last Friday for an event by the DNA Art club. Cozy vibes, nice drinks.\\nI would have loved it if there were no issue with volume.',\n",
       "  'dishes': [],\n",
       "  'rating': 4,\n",
       "  'date': 1756387654,\n",
       "  'url': None,\n",
       "  'author_url': 'https://www.google.com/maps/contrib/115470447847817778658/reviews',\n",
       "  'language': 'en'},\n",
       " {'id': None,\n",
       "  'source': 'google',\n",
       "  'author': 'Nadine Co',\n",
       "  'text': 'We ordered korean fried chicken and kimcheese fries from Eating Fantasy. Absolutely amazing! Would really recommend to try it! :)\\nThe place is also spacious and accessible.',\n",
       "  'dishes': [{'name': 'korean fried chicken', 'ranking': None},\n",
       "   {'name': 'kimcheese fries', 'ranking': None}],\n",
       "  'rating': 5,\n",
       "  'date': 1740520451,\n",
       "  'url': None,\n",
       "  'author_url': 'https://www.google.com/maps/contrib/111398963178574701961/reviews',\n",
       "  'language': 'en'}]"
      ]
     },
     "execution_count": 31,
     "metadata": {},
     "output_type": "execute_result"
    }
   ],
   "source": [
    "extract_dishes(r4_reviews, True)"
   ]
  },
  {
   "cell_type": "code",
   "execution_count": 8,
   "id": "498fa37b",
   "metadata": {},
   "outputs": [
    {
     "name": "stdout",
     "output_type": "stream",
     "text": [
      "Assigned ranking -1 to dish 'mini georgian bread' in review #1\n",
      "Assigned ranking -1 to dish 'dessert' in review #1\n",
      "Assigned ranking -1 to dish 'adjapsandali' in review #1\n",
      "Assigned ranking -1 to dish 'dumplings' in review #4\n",
      "Assigned ranking -1 to dish 'khachapuri imeruli' in review #5\n",
      "Assigned ranking -1 to dish 'khinkali with meat' in review #5\n",
      "Assigned ranking -1 to dish 'khinkali with cheese' in review #5\n"
     ]
    }
   ],
   "source": [
    "assign_rankings(r4_reviews, True)"
   ]
  },
  {
   "cell_type": "code",
   "execution_count": 9,
   "id": "5278f1bd",
   "metadata": {},
   "outputs": [
    {
     "data": {
      "text/plain": [
       "[{'id': None,\n",
       "  'source': 'google',\n",
       "  'author': 'Nika Chugoshvili',\n",
       "  'text': 'Friendly cozy and family atmosphere with authentic food. Not too pretty but original. Taste is priority. Mini georgian bread was super nice, adjapsandali and dessert as well.',\n",
       "  'dishes': [{'name': 'mini georgian bread', 'ranking': -1},\n",
       "   {'name': 'dessert', 'ranking': -1},\n",
       "   {'name': 'adjapsandali', 'ranking': -1}],\n",
       "  'rating': 5,\n",
       "  'date': 1751374444,\n",
       "  'url': None,\n",
       "  'author_url': 'https://www.google.com/maps/contrib/109702310661589209222/reviews',\n",
       "  'language': 'en'},\n",
       " {'id': None,\n",
       "  'source': 'google',\n",
       "  'author': 'Gaia Tassinari',\n",
       "  'text': 'What a wonderful dining experience. Authentic delicious food, lovely service, amazing red wine. Thank you! Will be back for more.',\n",
       "  'dishes': [],\n",
       "  'rating': 5,\n",
       "  'date': 1755459365,\n",
       "  'url': None,\n",
       "  'author_url': 'https://www.google.com/maps/contrib/113896279646697196969/reviews',\n",
       "  'language': 'en'},\n",
       " {'id': None,\n",
       "  'source': 'google',\n",
       "  'author': 'Steven Tice',\n",
       "  'text': \"First experience with Georgian food, and it was amazing! The service was fantastic, and our server was kind enough to help us pick out excellent options for our first Georgian food experience (especially because we couldn't understand the menu). We also enjoyed Georgian beer and wine. Which were both delicious as well.\",\n",
       "  'dishes': [],\n",
       "  'rating': 5,\n",
       "  'date': 1757104922,\n",
       "  'url': None,\n",
       "  'author_url': 'https://www.google.com/maps/contrib/102575073644000772513/reviews',\n",
       "  'language': 'en'},\n",
       " {'id': None,\n",
       "  'source': 'google',\n",
       "  'author': 'Nick Orloff',\n",
       "  'text': \"An excellent meal.\\n\\nOur first time eating Georgian food, but it won't be our last!\\n\\nWith no idea what to order, we put ourselves in the hands of the wonderful waitress who suggested a great assortment of the 'must trys' on the menu and also recommended a bottle of excellent Georgian wine.\\n\\nEverything tasted amazing, the place is small and intimate, and has a real neighborhood vibe.\\n\\nHAVE THE DUMPLINGS!\",\n",
       "  'dishes': [{'name': 'dumplings', 'ranking': -1}],\n",
       "  'rating': 5,\n",
       "  'date': 1759490727,\n",
       "  'url': None,\n",
       "  'author_url': 'https://www.google.com/maps/contrib/104526757664253701808/reviews',\n",
       "  'language': 'en'},\n",
       " {'id': None,\n",
       "  'source': 'google',\n",
       "  'author': 'Angelina Fedorenko',\n",
       "  'text': 'If you know what is georgian cuisine - this is the closest to authentic experience!\\nI am big fan of gc and tried all restaurants in Berlin, so far here - BEST KHINKALI WITH MEAT! With kinza and hot pepper, if you know what i mean. Khachapuri imeruli and khinkali with cheese also 10/10.\\nIt seems like a georgian family is running the place, you can see georgian grandma cooking and kind georgian girls serving - this is the sign of quality ❤️\\n\\nPs. They had a window before on Kotti ring,  now it is a real dining experince, very nice!',\n",
       "  'dishes': [{'name': 'khachapuri imeruli', 'ranking': -1},\n",
       "   {'name': 'khinkali with meat', 'ranking': -1},\n",
       "   {'name': 'khinkali with cheese', 'ranking': -1}],\n",
       "  'rating': 5,\n",
       "  'date': 1742291482,\n",
       "  'url': None,\n",
       "  'author_url': 'https://www.google.com/maps/contrib/113918346552918994721/reviews',\n",
       "  'language': 'en'}]"
      ]
     },
     "execution_count": 9,
     "metadata": {},
     "output_type": "execute_result"
    }
   ],
   "source": [
    "r4_reviews"
   ]
  },
  {
   "cell_type": "code",
   "execution_count": 10,
   "id": "649be977",
   "metadata": {},
   "outputs": [
    {
     "data": {
      "text/plain": [
       "[{'dish_name': 'mini georgian bread',\n",
       "  'ranking': -1,\n",
       "  'author': 'Nika Chugoshvili',\n",
       "  'source': 'google',\n",
       "  'timestamp': 1751374444,\n",
       "  'review_link': None},\n",
       " {'dish_name': 'dessert',\n",
       "  'ranking': -1,\n",
       "  'author': 'Nika Chugoshvili',\n",
       "  'source': 'google',\n",
       "  'timestamp': 1751374444,\n",
       "  'review_link': None},\n",
       " {'dish_name': 'adjapsandali',\n",
       "  'ranking': -1,\n",
       "  'author': 'Nika Chugoshvili',\n",
       "  'source': 'google',\n",
       "  'timestamp': 1751374444,\n",
       "  'review_link': None},\n",
       " {'dish_name': 'dumplings',\n",
       "  'ranking': -1,\n",
       "  'author': 'Nick Orloff',\n",
       "  'source': 'google',\n",
       "  'timestamp': 1759490727,\n",
       "  'review_link': None},\n",
       " {'dish_name': 'khachapuri imeruli',\n",
       "  'ranking': -1,\n",
       "  'author': 'Angelina Fedorenko',\n",
       "  'source': 'google',\n",
       "  'timestamp': 1742291482,\n",
       "  'review_link': None},\n",
       " {'dish_name': 'khinkali with meat',\n",
       "  'ranking': -1,\n",
       "  'author': 'Angelina Fedorenko',\n",
       "  'source': 'google',\n",
       "  'timestamp': 1742291482,\n",
       "  'review_link': None},\n",
       " {'dish_name': 'khinkali with cheese',\n",
       "  'ranking': -1,\n",
       "  'author': 'Angelina Fedorenko',\n",
       "  'source': 'google',\n",
       "  'timestamp': 1742291482,\n",
       "  'review_link': None}]"
      ]
     },
     "execution_count": 10,
     "metadata": {},
     "output_type": "execute_result"
    }
   ],
   "source": [
    "form_recommendations(r4_reviews)\n"
   ]
  },
  {
   "cell_type": "code",
   "execution_count": null,
   "id": "77501fd9",
   "metadata": {},
   "outputs": [],
   "source": []
  },
  {
   "cell_type": "code",
   "execution_count": 28,
   "id": "6ca88e9c",
   "metadata": {},
   "outputs": [
    {
     "name": "stderr",
     "output_type": "stream",
     "text": [
      "INFO:src.fetch.google_reviews:✅ Retrieved 5 reviews for Standard Pizza West (EN)\n",
      "INFO:__main__:📄 Retrieved 5 reviews\n",
      "INFO:src.nlp.extractor_openai:🚀 Starting extraction for 5 text chunks...\n",
      "INFO:httpx:HTTP Request: POST https://api.openai.com/v1/responses \"HTTP/1.1 200 OK\"\n",
      "INFO:httpx:HTTP Request: POST https://api.openai.com/v1/responses \"HTTP/1.1 200 OK\"\n",
      "INFO:httpx:HTTP Request: POST https://api.openai.com/v1/responses \"HTTP/1.1 200 OK\"\n",
      "INFO:httpx:HTTP Request: POST https://api.openai.com/v1/responses \"HTTP/1.1 200 OK\"\n",
      "INFO:httpx:HTTP Request: POST https://api.openai.com/v1/responses \"HTTP/1.1 200 OK\"\n",
      "INFO:src.nlp.extractor_openai:📝 A really good pizzeria even if not extraordinary.\n",
      "\n",
      "The ingredients were of the highest quality and the dough was good to...\n",
      "INFO:src.nlp.extractor_openai:🍽️ Extracted: none\n",
      "INFO:src.nlp.extractor_openai:📝 Very good pizza (Gialla e Rossa). The crust may be a little overcooked but not burnt on the bottom (most important !). Q...\n",
      "INFO:src.nlp.extractor_openai:🍽️ Extracted: pizza, gialla e rossa\n",
      "INFO:src.nlp.extractor_openai:📝 I had read that this place offered excellent Neapolitan-style pizza and a welcoming atmosphere. Unfortunately, my experi...\n",
      "INFO:src.nlp.extractor_openai:🍽️ Extracted: pizza, the pistachio tiramisu\n",
      "INFO:src.nlp.extractor_openai:📝 Standard Serious Pizza in Berlin is a standout destination for Neapolitan-style pizza lovers. Located in Charlottenburg,...\n",
      "INFO:src.nlp.extractor_openai:🍽️ Extracted: neapolitan-style pizza\n",
      "INFO:src.nlp.extractor_openai:📝 Great pizza! Vegetarian options and good willing to make slight changes on the recipes under request. Staff is super fri...\n",
      "INFO:src.nlp.extractor_openai:🍽️ Extracted: nduja, neapolitan-style pizza, carciofi\n",
      "INFO:src.nlp.extractor_openai:✅ Completed dish extraction for 5 reviews in 16.22s\n",
      "INFO:__main__:🍽️ Dishes extracted for 5 reviews\n"
     ]
    },
    {
     "name": "stdout",
     "output_type": "stream",
     "text": [
      "Assigned ranking -1 to dish 'pizza' in review #2\n",
      "Assigned ranking -1 to dish 'gialla e rossa' in review #2\n",
      "Assigned ranking -1 to dish 'pizza' in review #3\n",
      "Assigned ranking -1 to dish 'the pistachio tiramisu' in review #3\n",
      "Assigned ranking -1 to dish 'neapolitan-style pizza' in review #4\n",
      "Assigned ranking -1 to dish 'nduja' in review #5\n",
      "Assigned ranking -1 to dish 'neapolitan-style pizza' in review #5\n",
      "Assigned ranking -1 to dish 'carciofi' in review #5\n"
     ]
    },
    {
     "data": {
      "text/plain": [
       "{'recommendations': [{'dish_name': 'pizza',\n",
       "   'ranking': -1,\n",
       "   'author': 'K. “Dr. Slayer Von Pizza”',\n",
       "   'source': 'google',\n",
       "   'timestamp': 1755953081,\n",
       "   'review_link': None},\n",
       "  {'dish_name': 'gialla e rossa',\n",
       "   'ranking': -1,\n",
       "   'author': 'K. “Dr. Slayer Von Pizza”',\n",
       "   'source': 'google',\n",
       "   'timestamp': 1755953081,\n",
       "   'review_link': None},\n",
       "  {'dish_name': 'pizza',\n",
       "   'ranking': -1,\n",
       "   'author': 'o lee',\n",
       "   'source': 'google',\n",
       "   'timestamp': 1760896332,\n",
       "   'review_link': None},\n",
       "  {'dish_name': 'the pistachio tiramisu',\n",
       "   'ranking': -1,\n",
       "   'author': 'o lee',\n",
       "   'source': 'google',\n",
       "   'timestamp': 1760896332,\n",
       "   'review_link': None},\n",
       "  {'dish_name': 'neapolitan-style pizza',\n",
       "   'ranking': -1,\n",
       "   'author': 'Marfa Gulas',\n",
       "   'source': 'google',\n",
       "   'timestamp': 1734257472,\n",
       "   'review_link': None},\n",
       "  {'dish_name': 'nduja',\n",
       "   'ranking': -1,\n",
       "   'author': 'Lara Lima',\n",
       "   'source': 'google',\n",
       "   'timestamp': 1678434713,\n",
       "   'review_link': None},\n",
       "  {'dish_name': 'neapolitan-style pizza',\n",
       "   'ranking': -1,\n",
       "   'author': 'Lara Lima',\n",
       "   'source': 'google',\n",
       "   'timestamp': 1678434713,\n",
       "   'review_link': None},\n",
       "  {'dish_name': 'carciofi',\n",
       "   'ranking': -1,\n",
       "   'author': 'Lara Lima',\n",
       "   'source': 'google',\n",
       "   'timestamp': 1678434713,\n",
       "   'review_link': None}]}"
      ]
     },
     "execution_count": 28,
     "metadata": {},
     "output_type": "execute_result"
    }
   ],
   "source": [
    "get_recommendations(r2_id)"
   ]
  }
 ],
 "metadata": {
  "kernelspec": {
   "display_name": ".venv",
   "language": "python",
   "name": "python3"
  },
  "language_info": {
   "codemirror_mode": {
    "name": "ipython",
    "version": 3
   },
   "file_extension": ".py",
   "mimetype": "text/x-python",
   "name": "python",
   "nbconvert_exporter": "python",
   "pygments_lexer": "ipython3",
   "version": "3.11.3"
  }
 },
 "nbformat": 4,
 "nbformat_minor": 5
}
