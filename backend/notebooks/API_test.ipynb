{
 "cells": [
  {
   "cell_type": "code",
   "execution_count": 1,
   "id": "9f4cf039",
   "metadata": {},
   "outputs": [
    {
     "name": "stderr",
     "output_type": "stream",
     "text": [
      "c:\\Users\\robin\\Desktop\\Bootcamp_Files\\capstone-dishtip-be\\backend\\.venv\\Lib\\site-packages\\tqdm\\auto.py:21: TqdmWarning: IProgress not found. Please update jupyter and ipywidgets. See https://ipywidgets.readthedocs.io/en/stable/user_install.html\n",
      "  from .autonotebook import tqdm as notebook_tqdm\n",
      "INFO:src.nlp.dish_extractor:✅ Using 8 CPU threads for PyTorch\n"
     ]
    }
   ],
   "source": [
    "# set correct path for imports for this notebook\n",
    "import sys, os\n",
    "sys.path.append(os.path.abspath(os.path.join(os.getcwd(), \"..\")))\n",
    "\n",
    "# external imports \n",
    "import logging\n",
    "logging.basicConfig(level=logging.INFO)\n",
    "\n",
    "# local imports\n",
    "from src.fetch.google_reviews import fetch_google_reviews \n",
    "from src.fetch.google_place import Restaurant\n",
    "from src.nlp.dish_extractor import extract_dishes, _cached_extract_single\n",
    "from src.ranking.functions import assign_rankings\n",
    "from src.recommendation.recs import form_recommendations\n",
    "\n",
    "# Clear dish extractor cache to ensure fresh model load\n",
    "_cached_extract_single.cache_clear()"
   ]
  },
  {
   "cell_type": "code",
   "execution_count": null,
   "metadata": {},
   "outputs": [],
   "source": [
    "place_id = \"ChIJVfEmINtRqEcRsch0pslaanQ\" # Borchardt "
   ]
  },
  {
   "cell_type": "code",
   "execution_count": null,
   "id": "67918c24",
   "metadata": {},
   "outputs": [],
   "source": [
    "# exact sequence of functions for API's get_recoms\n",
    "reviews = fetch_google_reviews(place_id)\n",
    "reviews = extract_dishes(reviews, True)\n",
    "assign_rankings(reviews, True)\n",
    "recommendations = form_recommendations(reviews)\n",
    "recommendations"
   ]
  },
  {
   "cell_type": "code",
   "execution_count": 6,
   "id": "312a1f75",
   "metadata": {},
   "outputs": [
    {
     "name": "stdout",
     "output_type": "stream",
     "text": [
      "Borchardt \n",
      "Französische Str. 47, 10117 Berlin, Germany \n",
      "ChIJVfEmINtRqEcRsch0pslaanQ \n",
      "\n"
     ]
    }
   ],
   "source": [
    "# exact sequence of functions for API's get_restaurant_info\n",
    "restaurant = Restaurant(place_id)\n",
    "print(f\"\"\"{restaurant.name} \\n{restaurant.address} \\n{restaurant.id} \\n\"\"\")"
   ]
  }
 ],
 "metadata": {
  "kernelspec": {
   "display_name": ".venv",
   "language": "python",
   "name": "python3"
  },
  "language_info": {
   "codemirror_mode": {
    "name": "ipython",
    "version": 3
   },
   "file_extension": ".py",
   "mimetype": "text/x-python",
   "name": "python",
   "nbconvert_exporter": "python",
   "pygments_lexer": "ipython3",
   "version": "3.11.3"
  }
 },
 "nbformat": 4,
 "nbformat_minor": 5
}
