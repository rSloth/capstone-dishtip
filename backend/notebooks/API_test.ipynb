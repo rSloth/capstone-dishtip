{
 "cells": [
  {
   "cell_type": "code",
   "execution_count": null,
   "id": "9f4cf039",
   "metadata": {},
   "outputs": [
    {
     "name": "stderr",
     "output_type": "stream",
     "text": [
      "c:\\Users\\robin\\Desktop\\Bootcamp_Files\\capstone-dishtip-be\\backend\\.venv\\Lib\\site-packages\\tqdm\\auto.py:21: TqdmWarning: IProgress not found. Please update jupyter and ipywidgets. See https://ipywidgets.readthedocs.io/en/stable/user_install.html\n",
      "  from .autonotebook import tqdm as notebook_tqdm\n",
      "INFO:src.nlp.extractor_local:✅ Using 8 CPU threads for PyTorch\n"
     ]
    }
   ],
   "source": [
    "# set correct path for imports for this notebook\n",
    "import sys, os\n",
    "sys.path.append(os.path.abspath(os.path.join(os.getcwd(), \"..\")))\n",
    "\n",
    "# external imports \n",
    "import logging\n",
    "logging.basicConfig(level=logging.INFO)\n",
    "\n",
    "# local imports\n",
    "from src.fetch.google_reviews import fetch_google_reviews \n",
    "from src.fetch.google_place import Restaurant\n",
    "from src.nlp.extractor_openai import extract_dishes_openai, _cached_extract_single\n",
    "# from src.nlp.extractor_local import extract_dishes, _cached_extract_single\n",
    "from src.ranking.functions import assign_rankings\n",
    "from src.recommendation.recs import form_recommendations\n",
    "\n",
    "# Clear dish extractor cache to ensure fresh model load\n",
    "_cached_extract_single.cache_clear()"
   ]
  },
  {
   "cell_type": "code",
   "execution_count": 3,
   "metadata": {},
   "outputs": [
    {
     "data": {
      "text/plain": [
       "'ChIJVfEmINtRqEcRsch0pslaanQ'"
      ]
     },
     "execution_count": 3,
     "metadata": {},
     "output_type": "execute_result"
    }
   ],
   "source": [
    "place_id = \"ChIJpRECXmtPqEcRJMfokCTNvD8\" # Paolo Pinkel\n",
    "\n",
    "\"ChIJVfEmINtRqEcRsch0pslaanQ\" # Borchardt \n",
    "\n"
   ]
  },
  {
   "cell_type": "code",
   "execution_count": 4,
   "id": "67918c24",
   "metadata": {},
   "outputs": [
    {
     "name": "stderr",
     "output_type": "stream",
     "text": [
      "INFO:src.fetch.google_reviews:✅ Retrieved 5 reviews for Paolo Pinkel (EN)\n",
      "INFO:src.nlp.extractor_local:Loading model: google/flan-t5-large ...\n",
      "Device set to use cpu\n",
      "The following generation flags are not valid and may be ignored: ['temperature']. Set `TRANSFORMERS_VERBOSITY=info` for more details.\n",
      "INFO:src.nlp.extractor_local:Model loaded successfully.\n",
      "INFO:src.nlp.extractor_local:📝 Good food, good music, good people! We had some problems with the order (they forgot to bring 2 dishes) but it was solved and we enjoyed the meal. Big plates and tasty! Nice cocktails too.\n",
      "INFO:src.nlp.extractor_local:🍽️ all-you-, all-you-can-eat\n",
      "\n",
      "INFO:src.nlp.extractor_local:📝 one of my favorite places in Neukölln.\n",
      "I have been so many times and every time I am 100% satisfied. I loved the ceviche, the roastbeef and the schnitzel! The waiters are also so friendly❤️\n",
      "INFO:src.nlp.extractor_local:🍽️ roastbeef, ceviche, schnitzel\n",
      "\n",
      "INFO:src.nlp.extractor_local:📝 The restaurant was absolutely packed when we arrived, but the staff managed to squeeze us in, which I very much appreciate as I know how much of a hassle that can be. The staff did take while to get to our table, but that is very understandable as there were a lot of guests (which is why I didn’t deduct a point from the service)\n",
      "The food was very good especially the fried chicken was delicious. The fries however were just ok.\n",
      "Generally I might go there again, but it wouldn’t be my go to.\n",
      "INFO:src.nlp.extractor_local:🍽️ fried chicken, fries\n",
      "\n",
      "INFO:src.nlp.extractor_local:📝 Was Vibe until 10:30 PM. After that, no loud music is allowed.\n",
      "I was there last Friday for an event by the DNA Art club. Cozy vibes, nice drinks.\n",
      "I would have loved it if there were no issue with volume.\n",
      "INFO:src.nlp.extractor_local:🍽️ none\n",
      "\n",
      "INFO:src.nlp.extractor_local:📝 We ordered korean fried chicken and kimcheese fries from Eating Fantasy. Absolutely amazing! Would really recommend to try it! :)\n",
      "The place is also spacious and accessible.\n",
      "INFO:src.nlp.extractor_local:🍽️ kimcheese fries, korean fried chicken\n",
      "\n"
     ]
    },
    {
     "name": "stdout",
     "output_type": "stream",
     "text": [
      "Assigned ranking -1 to dish 'all-you-' in review #1\n",
      "Assigned ranking -1 to dish 'all-you-can-eat' in review #1\n",
      "Assigned ranking -1 to dish 'roastbeef' in review #2\n",
      "Assigned ranking -1 to dish 'ceviche' in review #2\n",
      "Assigned ranking -1 to dish 'schnitzel' in review #2\n",
      "Assigned ranking -1 to dish 'fried chicken' in review #3\n",
      "Assigned ranking -1 to dish 'fries' in review #3\n",
      "Assigned ranking -1 to dish 'kimcheese fries' in review #5\n",
      "Assigned ranking -1 to dish 'korean fried chicken' in review #5\n"
     ]
    },
    {
     "data": {
      "text/plain": [
       "[{'dish_name': 'all-you-',\n",
       "  'ranking': -1,\n",
       "  'author': 'Gorka Biern',\n",
       "  'source': 'google',\n",
       "  'timestamp': 1747644232,\n",
       "  'review_link': None},\n",
       " {'dish_name': 'all-you-can-eat',\n",
       "  'ranking': -1,\n",
       "  'author': 'Gorka Biern',\n",
       "  'source': 'google',\n",
       "  'timestamp': 1747644232,\n",
       "  'review_link': None},\n",
       " {'dish_name': 'roastbeef',\n",
       "  'ranking': -1,\n",
       "  'author': 'Deer Ozzie',\n",
       "  'source': 'google',\n",
       "  'timestamp': 1749415038,\n",
       "  'review_link': None},\n",
       " {'dish_name': 'ceviche',\n",
       "  'ranking': -1,\n",
       "  'author': 'Deer Ozzie',\n",
       "  'source': 'google',\n",
       "  'timestamp': 1749415038,\n",
       "  'review_link': None},\n",
       " {'dish_name': 'schnitzel',\n",
       "  'ranking': -1,\n",
       "  'author': 'Deer Ozzie',\n",
       "  'source': 'google',\n",
       "  'timestamp': 1749415038,\n",
       "  'review_link': None},\n",
       " {'dish_name': 'fried chicken',\n",
       "  'ranking': -1,\n",
       "  'author': 'M K',\n",
       "  'source': 'google',\n",
       "  'timestamp': 1743849235,\n",
       "  'review_link': None},\n",
       " {'dish_name': 'fries',\n",
       "  'ranking': -1,\n",
       "  'author': 'M K',\n",
       "  'source': 'google',\n",
       "  'timestamp': 1743849235,\n",
       "  'review_link': None},\n",
       " {'dish_name': 'kimcheese fries',\n",
       "  'ranking': -1,\n",
       "  'author': 'Nadine Co',\n",
       "  'source': 'google',\n",
       "  'timestamp': 1740520451,\n",
       "  'review_link': None},\n",
       " {'dish_name': 'korean fried chicken',\n",
       "  'ranking': -1,\n",
       "  'author': 'Nadine Co',\n",
       "  'source': 'google',\n",
       "  'timestamp': 1740520451,\n",
       "  'review_link': None}]"
      ]
     },
     "execution_count": 4,
     "metadata": {},
     "output_type": "execute_result"
    }
   ],
   "source": [
    "# exact sequence of functions for API's get_recoms\n",
    "reviews = fetch_google_reviews(place_id)\n",
    "reviews = extract_dishes(reviews, True)\n",
    "assign_rankings(reviews, True)\n",
    "recommendations = form_recommendations(reviews)\n",
    "recommendations"
   ]
  },
  {
   "cell_type": "code",
   "execution_count": 6,
   "id": "312a1f75",
   "metadata": {},
   "outputs": [
    {
     "name": "stdout",
     "output_type": "stream",
     "text": [
      "Borchardt \n",
      "Französische Str. 47, 10117 Berlin, Germany \n",
      "ChIJVfEmINtRqEcRsch0pslaanQ \n",
      "\n"
     ]
    }
   ],
   "source": [
    "# exact sequence of functions for API's get_restaurant_info\n",
    "restaurant = Restaurant(place_id)\n",
    "print(f\"\"\"{restaurant.name} \\n{restaurant.address} \\n{restaurant.id} \\n\"\"\")"
   ]
  },
  {
   "cell_type": "code",
   "execution_count": 5,
   "id": "29a926ce",
   "metadata": {},
   "outputs": [],
   "source": [
    "#extract dishes with openAI API\n",
    "\n",
    "import traceback\n",
    "\n",
    "# ---- DishTip modules ----\n",
    "from src.fetch.google_reviews import fetch_google_reviews\n",
    "from src.nlp.extractor_openai import extract_dishes_openai\n",
    "from src.ranking.functions import assign_rankings\n",
    "from src.recommendation.recs import form_recommendations\n",
    "\n",
    "logger = logging.getLogger(__name__)\n",
    "\n",
    "\n",
    "def get_recommendations(place_id: str):\n",
    "    try:\n",
    "        reviews = fetch_google_reviews(place_id)\n",
    "        logger.info(f\"📄 Retrieved {len(reviews)} reviews\")\n",
    "\n",
    "        reviews = extract_dishes_openai(reviews, True)\n",
    "        logger.info(f\"🍽️ Dishes extracted for {len(reviews)} reviews\")\n",
    "\n",
    "        assign_rankings(reviews, True)\n",
    "        recommendations = form_recommendations(reviews)\n",
    "\n",
    "        return {\"recommendations\": recommendations}\n",
    "\n",
    "    except Exception as e:\n",
    "        traceback.print_exc()\n"
   ]
  },
  {
   "cell_type": "code",
   "execution_count": 6,
   "id": "5db0e541",
   "metadata": {},
   "outputs": [
    {
     "name": "stderr",
     "output_type": "stream",
     "text": [
      "INFO:src.fetch.google_reviews:✅ Retrieved 5 reviews for Paolo Pinkel (EN)\n",
      "INFO:__main__:📄 Retrieved 5 reviews\n",
      "INFO:src.nlp.extractor_openai:🚀 Starting extraction for 5 text chunks...\n",
      "INFO:httpx:HTTP Request: POST https://api.openai.com/v1/responses \"HTTP/1.1 200 OK\"\n",
      "INFO:httpx:HTTP Request: POST https://api.openai.com/v1/responses \"HTTP/1.1 200 OK\"\n",
      "INFO:httpx:HTTP Request: POST https://api.openai.com/v1/responses \"HTTP/1.1 200 OK\"\n",
      "INFO:httpx:HTTP Request: POST https://api.openai.com/v1/responses \"HTTP/1.1 200 OK\"\n",
      "INFO:httpx:HTTP Request: POST https://api.openai.com/v1/responses \"HTTP/1.1 200 OK\"\n",
      "INFO:src.nlp.extractor_openai:📝 Good food, good music, good people! We had some problems with the order (they forgot to bring 2 dishes) but it was solved and we enjoyed the meal. Big plates and tasty! Nice cocktails too....\n",
      "INFO:src.nlp.extractor_openai:🍽️ Extracted: kimcheese fries, korean fried chicken\n",
      "INFO:src.nlp.extractor_openai:📝 one of my favorite places in Neukölln.\n",
      "I have been so many times and every time I am 100% satisfied. I loved the ceviche, the roastbeef and the schnitzel! The waiters are also so friendly❤️...\n",
      "INFO:src.nlp.extractor_openai:🍽️ Extracted: ceviche, schnitzel, roastbeef\n",
      "INFO:src.nlp.extractor_openai:📝 The restaurant was absolutely packed when we arrived, but the staff managed to squeeze us in, which I very much appreciate as I know how much of a hassle that can be. The staff did take while to get to our table, but that is very understandable as th...\n",
      "INFO:src.nlp.extractor_openai:🍽️ Extracted: none\n",
      "INFO:src.nlp.extractor_openai:📝 Was Vibe until 10:30 PM. After that, no loud music is allowed.\n",
      "I was there last Friday for an event by the DNA Art club. Cozy vibes, nice drinks.\n",
      "I would have loved it if there were no issue with volume....\n",
      "INFO:src.nlp.extractor_openai:🍽️ Extracted: fried chicken, fries\n",
      "INFO:src.nlp.extractor_openai:📝 We ordered korean fried chicken and kimcheese fries from Eating Fantasy. Absolutely amazing! Would really recommend to try it! :)\n",
      "The place is also spacious and accessible....\n",
      "INFO:src.nlp.extractor_openai:🍽️ Extracted: none\n",
      "INFO:src.nlp.extractor_openai:✅ Completed dish extraction for 5 reviews in 4.71s\n",
      "INFO:__main__:🍽️ Dishes extracted for 5 reviews\n"
     ]
    },
    {
     "name": "stdout",
     "output_type": "stream",
     "text": [
      "Assigned ranking -1 to dish 'kimcheese fries' in review #1\n",
      "Assigned ranking -1 to dish 'korean fried chicken' in review #1\n",
      "Assigned ranking -1 to dish 'ceviche' in review #2\n",
      "Assigned ranking -1 to dish 'schnitzel' in review #2\n",
      "Assigned ranking -1 to dish 'roastbeef' in review #2\n",
      "Assigned ranking -1 to dish 'fried chicken' in review #4\n",
      "Assigned ranking -1 to dish 'fries' in review #4\n"
     ]
    },
    {
     "data": {
      "text/plain": [
       "{'recommendations': [{'dish_name': 'kimcheese fries',\n",
       "   'ranking': -1,\n",
       "   'author': 'Gorka Biern',\n",
       "   'source': 'google',\n",
       "   'timestamp': 1747644232,\n",
       "   'review_link': None},\n",
       "  {'dish_name': 'korean fried chicken',\n",
       "   'ranking': -1,\n",
       "   'author': 'Gorka Biern',\n",
       "   'source': 'google',\n",
       "   'timestamp': 1747644232,\n",
       "   'review_link': None},\n",
       "  {'dish_name': 'ceviche',\n",
       "   'ranking': -1,\n",
       "   'author': 'Deer Ozzie',\n",
       "   'source': 'google',\n",
       "   'timestamp': 1749415038,\n",
       "   'review_link': None},\n",
       "  {'dish_name': 'schnitzel',\n",
       "   'ranking': -1,\n",
       "   'author': 'Deer Ozzie',\n",
       "   'source': 'google',\n",
       "   'timestamp': 1749415038,\n",
       "   'review_link': None},\n",
       "  {'dish_name': 'roastbeef',\n",
       "   'ranking': -1,\n",
       "   'author': 'Deer Ozzie',\n",
       "   'source': 'google',\n",
       "   'timestamp': 1749415038,\n",
       "   'review_link': None},\n",
       "  {'dish_name': 'fried chicken',\n",
       "   'ranking': -1,\n",
       "   'author': 'Pankaj Thakur',\n",
       "   'source': 'google',\n",
       "   'timestamp': 1756387654,\n",
       "   'review_link': None},\n",
       "  {'dish_name': 'fries',\n",
       "   'ranking': -1,\n",
       "   'author': 'Pankaj Thakur',\n",
       "   'source': 'google',\n",
       "   'timestamp': 1756387654,\n",
       "   'review_link': None}]}"
      ]
     },
     "execution_count": 6,
     "metadata": {},
     "output_type": "execute_result"
    }
   ],
   "source": [
    "get_recommendations(place_id)"
   ]
  }
 ],
 "metadata": {
  "kernelspec": {
   "display_name": ".venv",
   "language": "python",
   "name": "python3"
  },
  "language_info": {
   "codemirror_mode": {
    "name": "ipython",
    "version": 3
   },
   "file_extension": ".py",
   "mimetype": "text/x-python",
   "name": "python",
   "nbconvert_exporter": "python",
   "pygments_lexer": "ipython3",
   "version": "3.11.3"
  }
 },
 "nbformat": 4,
 "nbformat_minor": 5
}
