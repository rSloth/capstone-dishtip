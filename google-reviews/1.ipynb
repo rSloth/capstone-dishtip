{
 "cells": [
  {
   "cell_type": "code",
   "execution_count": null,
   "id": "756095dc",
   "metadata": {},
   "outputs": [
    {
     "name": "stdout",
     "output_type": "stream",
     "text": [
      "None\n"
     ]
    }
   ],
   "source": [
    "import requests\n",
    "from dotenv import load_dotenv\n",
    "import os\n",
    "\n",
    "load_dotenv()\n",
    "\n",
    "GOOGLE_API_KEY = os.getenv(\"GOOGLE_API_KEY\")\n",
    "\n",
    "def get_place_id(restaurant_name: str):\n",
    "    url = \"https://maps.googleapis.com/maps/api/place/findplacefromtext/json\"\n",
    "    params = {\n",
    "        \"input\": restaurant_name,\n",
    "        \"inputtype\": \"textquery\",\n",
    "        \"fields\": \"place_id,name,formatted_address\",\n",
    "        \"key\": GOOGLE_API_KEY\n",
    "    }\n",
    "    response = requests.get(url, params=params)\n",
    "    data = response.json()\n",
    "    if data.get(\"candidates\"):\n",
    "        return data[\"candidates\"][0][\"place_id\"]\n",
    "    return None\n",
    "\n",
    "def get_google_reviews(place_id: str):\n",
    "    url = \"https://maps.googleapis.com/maps/api/place/details/json\"\n",
    "    params = {\n",
    "        \"place_id\": place_id,\n",
    "        \"fields\": \"name,rating,user_ratings_total,reviews\",\n",
    "        \"key\": GOOGLE_API_KEY\n",
    "    }\n",
    "    response = requests.get(url, params=params)\n",
    "    data = response.json()\n",
    "    return data[\"result\"][\"reviews\"] if \"result\" in data else []\n",
    "\n",
    "# Example:\n",
    "place_id = get_place_id(\"Borcherdt's Berlin\")\n",
    "print(place_id)\n",
    "reviews = get_google_reviews(place_id)\n",
    "for r in reviews:\n",
    "    print(r[\"rating\"], r[\"text\"])\n",
    "\n"
   ]
  },
  {
   "cell_type": "code",
   "execution_count": 19,
   "id": "c1fbeedc",
   "metadata": {},
   "outputs": [
    {
     "data": {
      "text/plain": [
       "{'candidates': [{'formatted_address': 'Französische Str. 47, 10117 Berlin, Deutschland',\n",
       "   'name': 'Borchardt',\n",
       "   'place_id': 'ChIJVfEmINtRqEcRsch0pslaanQ'}],\n",
       " 'status': 'OK'}"
      ]
     },
     "execution_count": 19,
     "metadata": {},
     "output_type": "execute_result"
    }
   ],
   "source": [
    "GOOGLE_API_KEY = os.getenv(\"GOOGLE_API_KEY\")\n",
    "\n",
    "def get_place_id():\n",
    "    url = \"https://maps.googleapis.com/maps/api/place/findplacefromtext/json\"\n",
    "    params = {\n",
    "        \"input\": \"Borcherdt Berlin\",\n",
    "        \"inputtype\": \"textquery\",\n",
    "        \"fields\": \"place_id,name,formatted_address\",\n",
    "        \"key\": GOOGLE_API_KEY}\n",
    "    response = requests.get(url, params=params)\n",
    "    data = response.json()\n",
    "    return data\n",
    "    \n",
    "get_place_id()"
   ]
  }
 ],
 "metadata": {
  "kernelspec": {
   "display_name": ".venv",
   "language": "python",
   "name": "python3"
  },
  "language_info": {
   "codemirror_mode": {
    "name": "ipython",
    "version": 3
   },
   "file_extension": ".py",
   "mimetype": "text/x-python",
   "name": "python",
   "nbconvert_exporter": "python",
   "pygments_lexer": "ipython3",
   "version": "3.11.3"
  }
 },
 "nbformat": 4,
 "nbformat_minor": 5
}
