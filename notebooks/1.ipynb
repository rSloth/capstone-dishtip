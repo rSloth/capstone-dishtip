{
 "cells": [
  {
   "cell_type": "code",
   "execution_count": null,
   "id": "756095dc",
   "metadata": {},
   "outputs": [
    {
     "name": "stdout",
     "output_type": "stream",
     "text": [
      "c:\\Users\\robin\\Desktop\n",
      "--- RESTAURANT DETAILS ---\n",
      "Borchardt\n",
      "Französische Str. 47, 10117 Berlin, Deutschland\n",
      "ChIJVfEmINtRqEcRsch0pslaanQ\n",
      "--- END ---\n",
      " \n"
     ]
    },
    {
     "data": {
      "text/plain": [
       "('ChIJVfEmINtRqEcRsch0pslaanQ',\n",
       " 'Borchardt',\n",
       " 'Französische Str. 47, 10117 Berlin, Deutschland')"
      ]
     },
     "execution_count": 3,
     "metadata": {},
     "output_type": "execute_result"
    }
   ],
   "source": [
    "%cd ..\n",
    "\n",
    "import src.fetch\n",
    "\n",
    "get_place_id(\"borcherdt berlin\")"
   ]
  },
  {
   "cell_type": "code",
   "execution_count": null,
   "id": "c1fbeedc",
   "metadata": {},
   "outputs": [
    {
     "name": "stdout",
     "output_type": "stream",
     "text": [
      "c:\\Users\\robin\\Desktop\\Bootcamp_Files\n",
      "--- RESTAURANT DETAILS ---\n",
      "Borchardt\n",
      "Französische Str. 47, 10117 Berlin, Deutschland\n",
      "ChIJVfEmINtRqEcRsch0pslaanQ\n",
      "--- END ---\n",
      " \n"
     ]
    },
    {
     "data": {
      "text/plain": [
       "('ChIJVfEmINtRqEcRsch0pslaanQ',\n",
       " 'Borchardt',\n",
       " 'Französische Str. 47, 10117 Berlin, Deutschland')"
      ]
     },
     "execution_count": 2,
     "metadata": {},
     "output_type": "execute_result"
    }
   ],
   "source": []
  },
  {
   "cell_type": "code",
   "execution_count": 2,
   "id": "f59b2441",
   "metadata": {},
   "outputs": [
    {
     "name": "stdout",
     "output_type": "stream",
     "text": [
      "--- RESTAURANT DETAILS ---\n",
      "FunkyFisch\n",
      "Kantstraße 135-136, 10625 Berlin, Deutschland\n",
      "ChIJU7-KvONQqEcRCmPCCvo-Fg4\n",
      "--- END ---\n",
      " \n",
      "✅ Google reviews retrieved, found 5 reviews for FunkyFisch\n",
      " \n",
      "--- RESTAURANT DETAILS ---\n",
      "Standard Serious Pizza Charlottenburg\n",
      "Schlüterstraße 63, 10625 Berlin, Deutschland\n",
      "ChIJc2uwDI1RqEcRfAsy3YxyfIY\n",
      "--- END ---\n",
      " \n",
      "✅ Google reviews retrieved, found 5 reviews for Standard Pizza West\n",
      " \n",
      "--- RESTAURANT DETAILS ---\n",
      "Borchardt\n",
      "Französische Str. 47, 10117 Berlin, Deutschland\n",
      "ChIJVfEmINtRqEcRsch0pslaanQ\n",
      "--- END ---\n",
      " \n",
      "✅ Google reviews retrieved, found 5 reviews for Borchardt\n",
      " \n"
     ]
    }
   ],
   "source": [
    "rest1 = get_place_reviews(get_place_id(\"funkyfish berlin\"))\n",
    "rest2 = get_place_reviews(get_place_id(\"standard pizza west berlin\"))\n",
    "rest3 = get_place_reviews(get_place_id(\"borschert berlin\"))"
   ]
  },
  {
   "cell_type": "code",
   "execution_count": null,
   "id": "949d1829",
   "metadata": {},
   "outputs": [],
   "source": [
    "#Functions to extract dish mentions from reviews\n",
    "\n",
    "# services/nlp_service.py\n",
    "from __future__ import annotations\n",
    "from typing import Iterable, Dict, List, Set, Tuple\n",
    "from transformers import pipeline\n",
    "import re\n",
    "\n",
    "# ---- Config ----\n",
    "MODEL_NAME = \"Dizex/InstaFoodRoBERTa-NER\"        \n",
    "LABEL_WHITELIST: Set[str] = {\"Food\", \"Dish\"}    # entity groups we consider \"dishes\"\n",
    "MIN_SCORE = 0.45                                 # confidence threshold (tune as needed)\n",
    "\n",
    "# Optional: simple sentence splitter (keeps deps light)\n",
    "SENT_SPLIT_RE = re.compile(r\"(?<=[.!?])\\s+\")\n",
    "\n",
    "# ---- Lazy singleton loader (loads model once) ----\n",
    "_ner_pipe = None\n",
    "\n",
    "def get_ner():\n",
    "    global _ner_pipe\n",
    "    if _ner_pipe is None:\n",
    "        _ner_pipe = pipeline(\n",
    "            task=\"ner\",\n",
    "            model=MODEL_NAME,\n",
    "            aggregation_strategy=\"simple\",\n",
    "            device=0\n",
    "        )\n",
    "    return _ner_pipe\n",
    "\n",
    "# ---- Public API: extract dish mentions from texts ----\n",
    "def extract_dishes_from_texts(\n",
    "    texts: Iterable[str],\n",
    "    min_score: float = MIN_SCORE,\n",
    "    label_whitelist: Set[str] = LABEL_WHITELIST\n",
    ") -> Dict[str, Dict[str, object]]:\n",
    "    \"\"\"\n",
    "    Returns a dict keyed by dish name:\n",
    "    {\n",
    "      \"spaghetti carbonara\": {\n",
    "         \"count\": 3,\n",
    "         \"mentions\": [\"...sentence...\", \"...\"],\n",
    "         \"avg_conf\": 0.73\n",
    "      },\n",
    "      ...\n",
    "    }\n",
    "    \"\"\"\n",
    "    ner = get_ner()\n",
    "    dish_map: Dict[str, Dict[str, object]] = {}\n",
    "\n",
    "    for full_text in texts:\n",
    "        # Split into sentences (helps precision and makes snippets nice)\n",
    "        sentences = SENT_SPLIT_RE.split(full_text.strip()) if full_text else []\n",
    "        for sent in sentences:\n",
    "            if not sent:\n",
    "                continue\n",
    "            ents = ner(sent)\n",
    "            for e in ents:\n",
    "                group = e.get(\"entity_group\") or e.get(\"entity\")  # HF varies by model\n",
    "                score = float(e.get(\"score\", 0.0))\n",
    "                word  = (e.get(\"word\") or \"\").strip()\n",
    "\n",
    "                if not word or group not in label_whitelist or score < min_score:\n",
    "                    continue\n",
    "\n",
    "                dish = normalize_dish(word)\n",
    "                entry = dish_map.setdefault(dish, {\"count\": 0, \"mentions\": [], \"avg_conf_sum\": 0.0})\n",
    "                entry[\"count\"] += 1\n",
    "                # Keep a few representative snippets (cap to avoid bloat)\n",
    "                if len(entry[\"mentions\"]) < 10:\n",
    "                    entry[\"mentions\"].append(sent.strip())\n",
    "                entry[\"avg_conf_sum\"] += score\n",
    "\n",
    "    # Finalize averages\n",
    "    for dish, entry in dish_map.items():\n",
    "        cnt = max(entry[\"count\"], 1)\n",
    "        entry[\"avg_conf\"] = round(entry.pop(\"avg_conf_sum\") / cnt, 3)\n",
    "\n",
    "    return dish_map\n",
    "\n",
    "# ---- Light normalization for dish strings ----\n",
    "def normalize_dish(s: str) -> str:\n",
    "    s = s.lower()\n",
    "    s = re.sub(r\"\\s+\", \" \", s).strip()\n",
    "    # optional: remove trailing punctuation\n",
    "    s = re.sub(r\"[^\\w\\s\\-’']\", \"\", s)\n",
    "    return s"
   ]
  },
  {
   "cell_type": "code",
   "execution_count": null,
   "id": "68c9adbf",
   "metadata": {},
   "outputs": [
    {
     "name": "stderr",
     "output_type": "stream",
     "text": [
      "c:\\Users\\robin\\Desktop\\Bootcamp_Files\\capstone-dishtip-be\\.venv\\Lib\\site-packages\\transformers\\tokenization_utils_base.py:1601: FutureWarning: `clean_up_tokenization_spaces` was not set. It will be set to `True` by default. This behavior will be depracted in transformers v4.45, and will be then set to `False` by default. For more details check this issue: https://github.com/huggingface/transformers/issues/31884\n",
      "  warnings.warn(\n"
     ]
    },
    {
     "name": "stdout",
     "output_type": "stream",
     "text": [
      "📝 The spaghetti carbonara was amazing!\n",
      "🍽️ ['spaghetti carbonara']\n",
      "\n",
      "📝 The tiramisu was creamy and delicious.\n",
      "🍽️ ['tiramisu']\n",
      "\n",
      "📝 I didn’t like the lasagna; too salty.\n",
      "🍽️ ['lasagna', 'salty']\n",
      "\n",
      "📝 Their Margherita pizza is the best in town!\n",
      "🍽️ ['Margherita pizza']\n",
      "\n",
      "📝 Service sehr herzlich und locker, Essen sehr frisch und schmackhaft. Die Fisch Buns sowie das Spicy Shrimp Popcorn sind wirklich toll. Wir kommen wieder, wenn wir in Berlin sind.\n",
      "🍽️ ['Buns', 'Spicy Shrimp Popcorn']\n",
      "\n"
     ]
    }
   ],
   "source": [
    "from transformers import pipeline\n",
    "\n",
    "ner = pipeline(\"ner\", model=\"Dizex/FoodBaseBERT-NER\", aggregation_strategy=\"simple\")\n",
    "# NER = Named Entity Recognition\n",
    "\n",
    "# function to convert entities to list of strings\n",
    "def conv_to_food_string(text, entities: list[dict]) -> list[str]:\n",
    "        \"\"\"\n",
    "        Return the extracted food entities as strings. \n",
    "        Example: conv_to_food_string(example, ner_entity_results)\n",
    "        \"\"\"\n",
    "        ents = []\n",
    "        for ent in entities:\n",
    "            e = {\"start\": ent[\"start\"], \"end\": ent[\"end\"], \"label\": ent[\"entity_group\"]}\n",
    "            if ents and -1 <= ent[\"start\"] - ents[-1][\"end\"] <= 1 and ents[-1][\"label\"] == e[\"label\"]:\n",
    "                ents[-1][\"end\"] = e[\"end\"]\n",
    "                continue\n",
    "            ents.append(e)\n",
    "        return [text[e[\"start\"]:e[\"end\"]] for e in ents]\n",
    "\n",
    "reviews = [\n",
    "    \"The spaghetti carbonara was amazing!\",\n",
    "    \"The tiramisu was creamy and delicious.\",\n",
    "    \"I didn’t like the lasagna; too salty.\",\n",
    "    \"Their Margherita pizza is the best in town!\",\n",
    "    \"Service sehr herzlich und locker, Essen sehr frisch und schmackhaft. Die Fisch Buns sowie das Spicy Shrimp Popcorn sind wirklich toll. Wir kommen wieder, wenn wir in Berlin sind.\"\n",
    "    ]\n",
    "\n",
    "for r in reviews:\n",
    "    entities = ner(r)\n",
    "    dishes = conv_to_food_string(r, entities)\n",
    "    print(f\"📝 {r}\")\n",
    "    print(f\"🍽️ {dishes}\\n\")"
   ]
  },
  {
   "cell_type": "code",
   "execution_count": 73,
   "id": "55af999d",
   "metadata": {},
   "outputs": [
    {
     "name": "stderr",
     "output_type": "stream",
     "text": [
      "Some weights of the model checkpoint at cardiffnlp/twitter-roberta-base-sentiment-latest were not used when initializing RobertaForSequenceClassification: ['roberta.pooler.dense.bias', 'roberta.pooler.dense.weight']\n",
      "- This IS expected if you are initializing RobertaForSequenceClassification from the checkpoint of a model trained on another task or with another architecture (e.g. initializing a BertForSequenceClassification model from a BertForPreTraining model).\n",
      "- This IS NOT expected if you are initializing RobertaForSequenceClassification from the checkpoint of a model that you expect to be exactly identical (initializing a BertForSequenceClassification model from a BertForSequenceClassification model).\n"
     ]
    },
    {
     "name": "stdout",
     "output_type": "stream",
     "text": [
      "[{'label': 'positive', 'score': 0.8553879261016846}]\n"
     ]
    }
   ],
   "source": [
    "sentiment = pipeline(\"sentiment-analysis\", model=\"cardiffnlp/twitter-roberta-base-sentiment-latest\")\n",
    "\n",
    "text = \"The lasagna was too salty, but i really liked the tiramisu.\"\n",
    "print(sentiment(text))"
   ]
  },
  {
   "cell_type": "code",
   "execution_count": 69,
   "id": "d9dd9da5",
   "metadata": {},
   "outputs": [
    {
     "name": "stderr",
     "output_type": "stream",
     "text": [
      "c:\\Users\\robin\\Desktop\\Bootcamp_Files\\capstone-dishtip-be\\.venv\\Lib\\site-packages\\transformers\\tokenization_utils_base.py:1601: FutureWarning: `clean_up_tokenization_spaces` was not set. It will be set to `True` by default. This behavior will be depracted in transformers v4.45, and will be then set to `False` by default. For more details check this issue: https://github.com/huggingface/transformers/issues/31884\n",
      "  warnings.warn(\n"
     ]
    },
    {
     "name": "stdout",
     "output_type": "stream",
     "text": [
      "[{'entity_group': 'FOOD', 'score': 0.39927837, 'word': 'Buns', 'start': 79, 'end': 83}, {'entity_group': 'FOOD', 'score': 0.8851886, 'word': 'S', 'start': 94, 'end': 95}, {'entity_group': 'FOOD', 'score': 0.87498945, 'word': '##pic', 'start': 95, 'end': 98}, {'entity_group': 'FOOD', 'score': 0.8441721, 'word': '##y Shrimp Popcorn', 'start': 98, 'end': 114}]\n"
     ]
    }
   ],
   "source": [
    "from transformers import pipeline\n",
    "ner = pipeline(\"ner\", model=\"Dizex/FoodBaseBERT-NER\", aggregation_strategy=\"simple\")\n",
    "\n",
    "reviews = \"Service sehr herzlich und locker, Essen sehr frisch und schmackhaft. Die Fisch Buns sowie das Spicy Shrimp Popcorn sind wirklich toll. Wir kommen wieder, wenn wir in Berlin sind.\"\n",
    "\n",
    "\n",
    "food1 = ner(reviews, aggregation_strategy=\"simple\")\n",
    "print(food1)\n"
   ]
  },
  {
   "cell_type": "markdown",
   "id": "158c57b0",
   "metadata": {},
   "source": [
    "# Review normalization "
   ]
  },
  {
   "cell_type": "code",
   "execution_count": 6,
   "id": "5726d4ec",
   "metadata": {},
   "outputs": [],
   "source": [
    "REVIEW_SCHEMA = {\n",
    "    \"source\": None,        # 'google', 'blog', 'yelp', etc.\n",
    "    \"restaurant\": None,    # restaurant name\n",
    "    \"author\": None,        # reviewer/blogger name\n",
    "    \"text\": None,          # review text content\n",
    "    \"rating\": None,        # numeric rating (1–5) or None\n",
    "    \"date\": None,          # ISO date string\n",
    "    \"url\": None,           # source URL if available\n",
    "    \"language\": None,      # optional: helps later with translation\n",
    "    \"id\": None,            # optional: unique id (e.g. hash of text+source)\n",
    "}\n",
    "\n",
    "FIELD_MAPS = {\n",
    "    \"google\": {\n",
    "        \"author_name\": \"author\",\n",
    "        \"text\": \"text\",\n",
    "        \"rating\": \"rating\",\n",
    "        \"time\": \"date\",\n",
    "        \"url\": \"url\",\n",
    "        \"language\": \"language\",\n",
    "        \"author_url\": \"url\",\n",
    "\n",
    "    },\n",
    "    \"blog\": {\n",
    "        \"provider\": \"author\",\n",
    "        \"description\": \"text\",\n",
    "        \"datePublished\": \"date\",\n",
    "        \"url\": \"url\",\n",
    "    },\n",
    "}\n",
    "\n",
    "# TIP_SCHEMA = {\n",
    "#    \"dish name\": None,\n",
    "#    \"review_text\": \"from_schema\",\n",
    "#    \"excerpt\": None,\n",
    "#    \"author\": \"from_schema\",\n",
    "#    \"source\": \"google reviews\",\n",
    "#    \"review_link\": \"from_schema\",\n",
    "#    \"pos_score\": 0.9,\n",
    "#    \"ranking\": 4\n",
    "# }"
   ]
  },
  {
   "cell_type": "code",
   "execution_count": 10,
   "id": "71b49998",
   "metadata": {},
   "outputs": [],
   "source": [
    "def normalise_review(raw: dict, source: str) -> dict:\n",
    "    \"\"\"\n",
    "    Normalize a single review dictionary to match the standard REVIEW_SCHEMA.\n",
    "    Unrecognized keys are ignored. Missing keys get default values.\n",
    "\n",
    "    Args:\n",
    "        raw (dict): Raw review data from source.\n",
    "        source (str): Must be \"google\", \"blog\".\n",
    "    \"\"\"\n",
    "    \n",
    "    # Start with defaults\n",
    "    review = REVIEW_SCHEMA.copy()\n",
    "\n",
    "    # Get the appropriate field mapping for this source\n",
    "    mapping = FIELD_MAPS.get(source, {})\n",
    "\n",
    "    # Always record where it came from\n",
    "    review[\"source\"] = source\n",
    "    \n",
    "\n",
    "    # Translate raw keys → schema keys\n",
    "    for raw_key, value in raw.items():\n",
    "        # Find which schema field this raw key maps to\n",
    "        schema_key = mapping.get(raw_key)\n",
    "        if not mapping:\n",
    "            print(f\"[WARN] No field mapping found for source '{source}'\")\n",
    "\n",
    "        if schema_key and schema_key in review:\n",
    "            review[schema_key] = value\n",
    "\n",
    "    return review"
   ]
  },
  {
   "cell_type": "code",
   "execution_count": 11,
   "id": "75f96103",
   "metadata": {},
   "outputs": [
    {
     "data": {
      "text/plain": [
       "[{'source': 'google',\n",
       "  'restaurant': None,\n",
       "  'author': 'S. K.',\n",
       "  'text': 'Don’t get distracted by the name :)\\nIt’s a very cool, casual, but also a touch of a fancy place!\\nThe display of fish looks really nice, and fresh! The price setting feels a little bit higher than excpected, but overall I would recommend this place and be a regular here.',\n",
       "  'rating': 5,\n",
       "  'date': 1757272895,\n",
       "  'url': 'https://www.google.com/maps/contrib/104531257652878694334/reviews',\n",
       "  'language': 'en',\n",
       "  'id': None},\n",
       " {'source': 'google',\n",
       "  'restaurant': None,\n",
       "  'author': 'Dasha Work',\n",
       "  'text': 'It was an amazing experience! The service in this restaurant is the best from what I saw in Germany so far.\\n\\nThey proposed me to have an extra meal for free because I didn’t enjoy a soup (not because it was bad, but because it wasn’t for my taste). I said that I’ll take 2 oysters instead, and the waiter said he will bring 3 :) when he came back, he brought 4 oysters for me for free… I was amazed.\\n\\nAlso the waiters answered all our questions, were very nice and caring. It was such an experience. 💛',\n",
       "  'rating': 5,\n",
       "  'date': 1749309918,\n",
       "  'url': 'https://www.google.com/maps/contrib/101978854109515405601/reviews',\n",
       "  'language': 'en',\n",
       "  'id': None},\n",
       " {'source': 'google',\n",
       "  'restaurant': None,\n",
       "  'author': 'Jonas Salloum',\n",
       "  'text': 'We visited Funky Fisch yesterday evening and had a thoroughly enjoyable experience. The service was efficient and genuinely welcoming — despite arriving nearly 20 minutes late, we were greeted with warmth and made to feel at ease right away. The menu is concise, featuring a thoughtfully curated selection of dishes that makes choosing both straightforward and satisfying.\\nThe wine list is extensive, with an impressive array of non-alcoholic options as well. The food itself was outstanding — fresh, beautifully presented, and bursting with flavor. It’s the kind of place where, as you settle the bill, you’re already imagining your next visit and wondering about the dishes you didn’t try this time. Highly recommended!',\n",
       "  'rating': 5,\n",
       "  'date': 1749017808,\n",
       "  'url': 'https://www.google.com/maps/contrib/111305511244963075191/reviews',\n",
       "  'language': 'en',\n",
       "  'id': None},\n",
       " {'source': 'google',\n",
       "  'restaurant': None,\n",
       "  'author': 'UnDiplomatic Wife',\n",
       "  'text': 'The food was absolutely delicious. There was one English speaking waiter who made great recommendations.\\n\\nThe food is eclectic but everything makes sense together. We ordered a little too much but we were stuffed and happy.\\n\\nThe coffee and dessert were so delicious! I can highly recommend this restaurant and everything we ordered (see pic captions) was amazing!\\n\\nThis places is great for special celebrations as it is a little more pricey than what is normal in Berlin. We went to celebrate our friend’s birthday.',\n",
       "  'rating': 5,\n",
       "  'date': 1719995912,\n",
       "  'url': 'https://www.google.com/maps/contrib/116951825885613414699/reviews',\n",
       "  'language': 'en',\n",
       "  'id': None},\n",
       " {'source': 'google',\n",
       "  'restaurant': None,\n",
       "  'author': 'Everett Diamond',\n",
       "  'text': 'Great fish restaurant, food was delicious, maybe best popcorn shrimp ever.\\n\\nWas for a birthday dinner, so ready to splurge a bit. End to end everything was really good, the only area for improvement would be the daily fish board.\\n\\nAs only English speaker, this as you pick fish special was bit challenging to fully understand, even though the waiters were trying to explain, was just a bit difficult to translate it all via discussion. Which put a bit of a damper on the meal.\\n\\nWould still go back, and maybe second time that we know the score it would be better',\n",
       "  'rating': 5,\n",
       "  'date': 1740840945,\n",
       "  'url': 'https://www.google.com/maps/contrib/114257339072152397651/reviews',\n",
       "  'language': 'en',\n",
       "  'id': None}]"
      ]
     },
     "execution_count": 11,
     "metadata": {},
     "output_type": "execute_result"
    }
   ],
   "source": [
    "all_reviews = []\n",
    "\n",
    "for r in rest1:\n",
    "    all_reviews.append(normalise_review(r, \"google\")) \n",
    "\n",
    "all_reviews"
   ]
  }
 ],
 "metadata": {
  "kernelspec": {
   "display_name": ".venv",
   "language": "python",
   "name": "python3"
  },
  "language_info": {
   "codemirror_mode": {
    "name": "ipython",
    "version": 3
   },
   "file_extension": ".py",
   "mimetype": "text/x-python",
   "name": "python",
   "nbconvert_exporter": "python",
   "pygments_lexer": "ipython3",
   "version": "3.11.3"
  }
 },
 "nbformat": 4,
 "nbformat_minor": 5
}
