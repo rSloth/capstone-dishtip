{
 "cells": [
  {
   "cell_type": "code",
   "execution_count": 3,
   "id": "756095dc",
   "metadata": {},
   "outputs": [],
   "source": [
    "# set correct path for imports for this notebook\n",
    "import sys, os\n",
    "sys.path.append(os.path.abspath(os.path.join(os.getcwd(), \"..\")))\n",
    "\n",
    "# external imports \n",
    "import logging\n",
    "logging.basicConfig(level=logging.INFO)\n",
    "\n",
    "# local imports\n",
    "from src.fetch.google import fetch_google_reviews, fetch_place_id, fetch_restaurant_info\n",
    "from src.nlp.dish_extractor import extract_dishes, _cached_extract_single\n",
    "from src.ranking.functions import assign_rankings\n",
    "\n",
    "# Clear dish extractor cache to ensure fresh model load\n",
    "_cached_extract_single.cache_clear()\n"
   ]
  },
  {
   "cell_type": "code",
   "execution_count": 4,
   "id": "350c0680",
   "metadata": {},
   "outputs": [],
   "source": [
    "class Restaurant():\n",
    "    def __init__(self, place_id):\n",
    "        self.id = place_id\n",
    "        \n",
    "        #fetching restaurant info\n",
    "        info = fetch_restaurant_info(place_id)\n",
    "        self.name = info.get(\"name\")\n",
    "        self.address = info.get(\"address\")\n",
    "        self.id_check = info.get(\"id\")\n",
    "        \n",
    "        #check if fetch worked\n",
    "        if str(place_id).strip() != str(self.id_check).strip():\n",
    "            raise ValueError(f\"Restaurant ID mismatch: {place_id} vs {self.id_check}\")\n",
    "        \n",
    "        #putting in placeholders for important later info\n",
    "        self.reviews = []\n",
    "        self.google_url = \"\"\n",
    "        self.homepage_url = \"\"\n",
    "        self.menu_url = \"\""
   ]
  },
  {
   "cell_type": "code",
   "execution_count": 5,
   "id": "be19ec13",
   "metadata": {},
   "outputs": [
    {
     "name": "stderr",
     "output_type": "stream",
     "text": [
      "INFO:src.fetch.google:\n",
      " Found restaurant: FunkyFisch\n",
      "Kantstraße 135-136, 10625 Berlin, Deutschland\n",
      "ID = ChIJU7-KvONQqEcRCmPCCvo-Fg4\n",
      "\n",
      "INFO:src.fetch.google:\n",
      " Found restaurant: Standard Serious Pizza Charlottenburg\n",
      "Schlüterstraße 63, 10625 Berlin, Deutschland\n",
      "ID = ChIJc2uwDI1RqEcRfAsy3YxyfIY\n",
      "\n",
      "INFO:src.fetch.google:\n",
      " Found restaurant: Borchardt\n",
      "Französische Str. 47, 10117 Berlin, Deutschland\n",
      "ID = ChIJVfEmINtRqEcRsch0pslaanQ\n",
      "\n",
      "INFO:src.fetch.google:\n",
      " Found restaurant: Gio's\n",
      "Dresdener Str. 16, 10999 Berlin, Deutschland\n",
      "ID = ChIJ65Liv5JPqEcRodr8aFFNAvE\n",
      "\n"
     ]
    },
    {
     "data": {
      "text/plain": [
       "'ChIJ65Liv5JPqEcRodr8aFFNAvE'"
      ]
     },
     "execution_count": 5,
     "metadata": {},
     "output_type": "execute_result"
    }
   ],
   "source": [
    "r1_id = fetch_place_id(\"funkyfish berlin\")\n",
    "r2_id = fetch_place_id(\"standard pizza west berlin\")\n",
    "r3_id = fetch_place_id(\"borschert berlin\")\n",
    "r4_id = fetch_place_id(\"Gio's Berlin\")\n",
    "\n",
    "r4_id "
   ]
  },
  {
   "cell_type": "code",
   "execution_count": 6,
   "id": "c1647bda",
   "metadata": {},
   "outputs": [],
   "source": [
    "r1 = Restaurant(r1_id)\n",
    "r4 = Restaurant(r4_id)"
   ]
  },
  {
   "cell_type": "code",
   "execution_count": 7,
   "id": "1b969c18",
   "metadata": {},
   "outputs": [
    {
     "data": {
      "text/plain": [
       "'ChIJU7-KvONQqEcRCmPCCvo-Fg4'"
      ]
     },
     "execution_count": 7,
     "metadata": {},
     "output_type": "execute_result"
    }
   ],
   "source": [
    "r1_id"
   ]
  },
  {
   "cell_type": "code",
   "execution_count": 8,
   "id": "0f7156c0",
   "metadata": {},
   "outputs": [
    {
     "name": "stderr",
     "output_type": "stream",
     "text": [
      "INFO:src.fetch.google:✅ Retrieved 5 reviews for FunkyFisch (EN)\n",
      "INFO:src.fetch.google:✅ Retrieved 5 reviews for Standard Pizza West (EN)\n",
      "INFO:src.fetch.google:✅ Retrieved 5 reviews for Borchardt (EN)\n",
      "INFO:src.fetch.google:✅ Retrieved 5 reviews for Gio's (EN)\n"
     ]
    }
   ],
   "source": [
    "r1_reviews = fetch_google_reviews(r1_id)\n",
    "r2_reviews = fetch_google_reviews(r2_id)\n",
    "r3_reviews = fetch_google_reviews(r3_id)\n",
    "r4_reviews = fetch_google_reviews(r4_id)"
   ]
  },
  {
   "cell_type": "code",
   "execution_count": 7,
   "id": "1a5cc6b6",
   "metadata": {},
   "outputs": [
    {
     "data": {
      "text/plain": [
       "[{'id': None,\n",
       "  'source': 'google',\n",
       "  'author': 'Nika Chugoshvili',\n",
       "  'text': 'Friendly cozy and family atmosphere with authentic food. Not too pretty but original. Taste is priority. Mini georgian bread was super nice, adjapsandali and dessert as well.',\n",
       "  'dishes': [],\n",
       "  'rating': 5,\n",
       "  'date': 1751374444,\n",
       "  'url': None,\n",
       "  'author_url': 'https://www.google.com/maps/contrib/109702310661589209222/reviews',\n",
       "  'language': 'en'},\n",
       " {'id': None,\n",
       "  'source': 'google',\n",
       "  'author': 'Gaia Tassinari',\n",
       "  'text': 'What a wonderful dining experience. Authentic delicious food, lovely service, amazing red wine. Thank you! Will be back for more.',\n",
       "  'dishes': [],\n",
       "  'rating': 5,\n",
       "  'date': 1755459365,\n",
       "  'url': None,\n",
       "  'author_url': 'https://www.google.com/maps/contrib/113896279646697196969/reviews',\n",
       "  'language': 'en'},\n",
       " {'id': None,\n",
       "  'source': 'google',\n",
       "  'author': 'Steven Tice',\n",
       "  'text': \"First experience with Georgian food, and it was amazing! The service was fantastic, and our server was kind enough to help us pick out excellent options for our first Georgian food experience (especially because we couldn't understand the menu). We also enjoyed Georgian beer and wine. Which were both delicious as well.\",\n",
       "  'dishes': [],\n",
       "  'rating': 5,\n",
       "  'date': 1757104922,\n",
       "  'url': None,\n",
       "  'author_url': 'https://www.google.com/maps/contrib/102575073644000772513/reviews',\n",
       "  'language': 'en'},\n",
       " {'id': None,\n",
       "  'source': 'google',\n",
       "  'author': 'Nick Orloff',\n",
       "  'text': \"An excellent meal.\\n\\nOur first time eating Georgian food, but it won't be our last!\\n\\nWith no idea what to order, we put ourselves in the hands of the wonderful waitress who suggested a great assortment of the 'must trys' on the menu and also recommended a bottle of excellent Georgian wine.\\n\\nEverything tasted amazing, the place is small and intimate, and has a real neighborhood vibe.\\n\\nHAVE THE DUMPLINGS!\",\n",
       "  'dishes': [],\n",
       "  'rating': 5,\n",
       "  'date': 1759490727,\n",
       "  'url': None,\n",
       "  'author_url': 'https://www.google.com/maps/contrib/104526757664253701808/reviews',\n",
       "  'language': 'en'},\n",
       " {'id': None,\n",
       "  'source': 'google',\n",
       "  'author': 'Angelina Fedorenko',\n",
       "  'text': 'If you know what is georgian cuisine - this is the closest to authentic experience!\\nI am big fan of gc and tried all restaurants in Berlin, so far here - BEST KHINKALI WITH MEAT! With kinza and hot pepper, if you know what i mean. Khachapuri imeruli and khinkali with cheese also 10/10.\\nIt seems like a georgian family is running the place, you can see georgian grandma cooking and kind georgian girls serving - this is the sign of quality ❤️\\n\\nPs. They had a window before on Kotti ring,  now it is a real dining experince, very nice!',\n",
       "  'dishes': [],\n",
       "  'rating': 5,\n",
       "  'date': 1742291482,\n",
       "  'url': None,\n",
       "  'author_url': 'https://www.google.com/maps/contrib/113918346552918994721/reviews',\n",
       "  'language': 'en'}]"
      ]
     },
     "execution_count": 7,
     "metadata": {},
     "output_type": "execute_result"
    }
   ],
   "source": [
    "r4_reviews"
   ]
  },
  {
   "cell_type": "code",
   "execution_count": 9,
   "id": "638af345",
   "metadata": {},
   "outputs": [
    {
     "name": "stderr",
     "output_type": "stream",
     "text": [
      "INFO:src.nlp.dish_extractor:Loading model: google/flan-t5-large ...\n",
      "Device set to use cpu\n",
      "The following generation flags are not valid and may be ignored: ['temperature']. Set `TRANSFORMERS_VERBOSITY=info` for more details.\n",
      "INFO:src.nlp.dish_extractor:Model loaded successfully.\n",
      "INFO:src.nlp.dish_extractor:📝 Friendly cozy and family atmosphere with authentic food. Not too pretty but original. Taste is priority. Mini georgian bread was super nice, adjapsandali and dessert as well.\n",
      "INFO:src.nlp.dish_extractor:🍽️ mini georgian bread, dessert, adjapsandali\n",
      "\n",
      "INFO:src.nlp.dish_extractor:📝 What a wonderful dining experience. Authentic delicious food, lovely service, amazing red wine. Thank you! Will be back for more.\n",
      "INFO:src.nlp.dish_extractor:🍽️ none\n",
      "\n",
      "INFO:src.nlp.dish_extractor:📝 First experience with Georgian food, and it was amazing! The service was fantastic, and our server was kind enough to help us pick out excellent options for our first Georgian food experience (especially because we couldn't understand the menu). We also enjoyed Georgian beer and wine. Which were both delicious as well.\n",
      "INFO:src.nlp.dish_extractor:🍽️ none\n",
      "\n",
      "INFO:src.nlp.dish_extractor:📝 An excellent meal.\n",
      "\n",
      "Our first time eating Georgian food, but it won't be our last!\n",
      "\n",
      "With no idea what to order, we put ourselves in the hands of the wonderful waitress who suggested a great assortment of the 'must trys' on the menu and also recommended a bottle of excellent Georgian wine.\n",
      "\n",
      "Everything tasted amazing, the place is small and intimate, and has a real neighborhood vibe.\n",
      "\n",
      "HAVE THE DUMPLINGS!\n",
      "INFO:src.nlp.dish_extractor:🍽️ dumplings\n",
      "\n",
      "INFO:src.nlp.dish_extractor:📝 If you know what is georgian cuisine - this is the closest to authentic experience!\n",
      "I am big fan of gc and tried all restaurants in Berlin, so far here - BEST KHINKALI WITH MEAT! With kinza and hot pepper, if you know what i mean. Khachapuri imeruli and khinkali with cheese also 10/10.\n",
      "It seems like a georgian family is running the place, you can see georgian grandma cooking and kind georgian girls serving - this is the sign of quality ❤️\n",
      "\n",
      "Ps. They had a window before on Kotti ring,  now it is a\n",
      "INFO:src.nlp.dish_extractor:🍽️ khinkali with meat, khinkali with cheese, khachapuri imeruli\n",
      "\n"
     ]
    },
    {
     "data": {
      "text/plain": [
       "[{'id': None,\n",
       "  'source': 'google',\n",
       "  'author': 'Nika Chugoshvili',\n",
       "  'text': 'Friendly cozy and family atmosphere with authentic food. Not too pretty but original. Taste is priority. Mini georgian bread was super nice, adjapsandali and dessert as well.',\n",
       "  'dishes': [{'name': 'mini georgian bread', 'ranking': None},\n",
       "   {'name': 'dessert', 'ranking': None},\n",
       "   {'name': 'adjapsandali', 'ranking': None}],\n",
       "  'rating': 5,\n",
       "  'date': 1751374444,\n",
       "  'url': None,\n",
       "  'author_url': 'https://www.google.com/maps/contrib/109702310661589209222/reviews',\n",
       "  'language': 'en'},\n",
       " {'id': None,\n",
       "  'source': 'google',\n",
       "  'author': 'Gaia Tassinari',\n",
       "  'text': 'What a wonderful dining experience. Authentic delicious food, lovely service, amazing red wine. Thank you! Will be back for more.',\n",
       "  'dishes': [],\n",
       "  'rating': 5,\n",
       "  'date': 1755459365,\n",
       "  'url': None,\n",
       "  'author_url': 'https://www.google.com/maps/contrib/113896279646697196969/reviews',\n",
       "  'language': 'en'},\n",
       " {'id': None,\n",
       "  'source': 'google',\n",
       "  'author': 'Steven Tice',\n",
       "  'text': \"First experience with Georgian food, and it was amazing! The service was fantastic, and our server was kind enough to help us pick out excellent options for our first Georgian food experience (especially because we couldn't understand the menu). We also enjoyed Georgian beer and wine. Which were both delicious as well.\",\n",
       "  'dishes': [],\n",
       "  'rating': 5,\n",
       "  'date': 1757104922,\n",
       "  'url': None,\n",
       "  'author_url': 'https://www.google.com/maps/contrib/102575073644000772513/reviews',\n",
       "  'language': 'en'},\n",
       " {'id': None,\n",
       "  'source': 'google',\n",
       "  'author': 'Nick Orloff',\n",
       "  'text': \"An excellent meal.\\n\\nOur first time eating Georgian food, but it won't be our last!\\n\\nWith no idea what to order, we put ourselves in the hands of the wonderful waitress who suggested a great assortment of the 'must trys' on the menu and also recommended a bottle of excellent Georgian wine.\\n\\nEverything tasted amazing, the place is small and intimate, and has a real neighborhood vibe.\\n\\nHAVE THE DUMPLINGS!\",\n",
       "  'dishes': [{'name': 'dumplings', 'ranking': None}],\n",
       "  'rating': 5,\n",
       "  'date': 1759490727,\n",
       "  'url': None,\n",
       "  'author_url': 'https://www.google.com/maps/contrib/104526757664253701808/reviews',\n",
       "  'language': 'en'},\n",
       " {'id': None,\n",
       "  'source': 'google',\n",
       "  'author': 'Angelina Fedorenko',\n",
       "  'text': 'If you know what is georgian cuisine - this is the closest to authentic experience!\\nI am big fan of gc and tried all restaurants in Berlin, so far here - BEST KHINKALI WITH MEAT! With kinza and hot pepper, if you know what i mean. Khachapuri imeruli and khinkali with cheese also 10/10.\\nIt seems like a georgian family is running the place, you can see georgian grandma cooking and kind georgian girls serving - this is the sign of quality ❤️\\n\\nPs. They had a window before on Kotti ring,  now it is a real dining experince, very nice!',\n",
       "  'dishes': [{'name': 'khinkali with meat', 'ranking': None},\n",
       "   {'name': 'khinkali with cheese', 'ranking': None},\n",
       "   {'name': 'khachapuri imeruli', 'ranking': None}],\n",
       "  'rating': 5,\n",
       "  'date': 1742291482,\n",
       "  'url': None,\n",
       "  'author_url': 'https://www.google.com/maps/contrib/113918346552918994721/reviews',\n",
       "  'language': 'en'}]"
      ]
     },
     "execution_count": 9,
     "metadata": {},
     "output_type": "execute_result"
    }
   ],
   "source": [
    "extract_dishes(r4_reviews, True)"
   ]
  },
  {
   "cell_type": "code",
   "execution_count": 9,
   "id": "498fa37b",
   "metadata": {},
   "outputs": [
    {
     "name": "stdout",
     "output_type": "stream",
     "text": [
      "Assigned ranking -1 to dish 'dessert' in review #None\n",
      "Assigned ranking -1 to dish 'adjapsandali' in review #None\n",
      "Assigned ranking -1 to dish 'mini georgian bread' in review #None\n",
      "Assigned ranking -1 to dish 'dumplings' in review #None\n",
      "Assigned ranking -1 to dish 'khachapuri imeruli' in review #None\n",
      "Assigned ranking -1 to dish 'khinkali with cheese' in review #None\n",
      "Assigned ranking -1 to dish 'khinkali with meat' in review #None\n"
     ]
    }
   ],
   "source": [
    "assign_rankings(r4_reviews, True)"
   ]
  },
  {
   "cell_type": "code",
   "execution_count": 10,
   "id": "5278f1bd",
   "metadata": {},
   "outputs": [
    {
     "data": {
      "text/plain": [
       "[{'id': None,\n",
       "  'source': 'google',\n",
       "  'author': 'Nika Chugoshvili',\n",
       "  'text': 'Friendly cozy and family atmosphere with authentic food. Not too pretty but original. Taste is priority. Mini georgian bread was super nice, adjapsandali and dessert as well.',\n",
       "  'dishes': [{'name': 'dessert', 'ranking': -1},\n",
       "   {'name': 'adjapsandali', 'ranking': -1},\n",
       "   {'name': 'mini georgian bread', 'ranking': -1}],\n",
       "  'rating': 5,\n",
       "  'date': 1751374444,\n",
       "  'url': None,\n",
       "  'author_url': 'https://www.google.com/maps/contrib/109702310661589209222/reviews',\n",
       "  'language': 'en'},\n",
       " {'id': None,\n",
       "  'source': 'google',\n",
       "  'author': 'Gaia Tassinari',\n",
       "  'text': 'What a wonderful dining experience. Authentic delicious food, lovely service, amazing red wine. Thank you! Will be back for more.',\n",
       "  'dishes': [],\n",
       "  'rating': 5,\n",
       "  'date': 1755459365,\n",
       "  'url': None,\n",
       "  'author_url': 'https://www.google.com/maps/contrib/113896279646697196969/reviews',\n",
       "  'language': 'en'},\n",
       " {'id': None,\n",
       "  'source': 'google',\n",
       "  'author': 'Steven Tice',\n",
       "  'text': \"First experience with Georgian food, and it was amazing! The service was fantastic, and our server was kind enough to help us pick out excellent options for our first Georgian food experience (especially because we couldn't understand the menu). We also enjoyed Georgian beer and wine. Which were both delicious as well.\",\n",
       "  'dishes': [],\n",
       "  'rating': 5,\n",
       "  'date': 1757104922,\n",
       "  'url': None,\n",
       "  'author_url': 'https://www.google.com/maps/contrib/102575073644000772513/reviews',\n",
       "  'language': 'en'},\n",
       " {'id': None,\n",
       "  'source': 'google',\n",
       "  'author': 'Nick Orloff',\n",
       "  'text': \"An excellent meal.\\n\\nOur first time eating Georgian food, but it won't be our last!\\n\\nWith no idea what to order, we put ourselves in the hands of the wonderful waitress who suggested a great assortment of the 'must trys' on the menu and also recommended a bottle of excellent Georgian wine.\\n\\nEverything tasted amazing, the place is small and intimate, and has a real neighborhood vibe.\\n\\nHAVE THE DUMPLINGS!\",\n",
       "  'dishes': [{'name': 'dumplings', 'ranking': -1}],\n",
       "  'rating': 5,\n",
       "  'date': 1759490727,\n",
       "  'url': None,\n",
       "  'author_url': 'https://www.google.com/maps/contrib/104526757664253701808/reviews',\n",
       "  'language': 'en'},\n",
       " {'id': None,\n",
       "  'source': 'google',\n",
       "  'author': 'Angelina Fedorenko',\n",
       "  'text': 'If you know what is georgian cuisine - this is the closest to authentic experience!\\nI am big fan of gc and tried all restaurants in Berlin, so far here - BEST KHINKALI WITH MEAT! With kinza and hot pepper, if you know what i mean. Khachapuri imeruli and khinkali with cheese also 10/10.\\nIt seems like a georgian family is running the place, you can see georgian grandma cooking and kind georgian girls serving - this is the sign of quality ❤️\\n\\nPs. They had a window before on Kotti ring,  now it is a real dining experince, very nice!',\n",
       "  'dishes': [{'name': 'khachapuri imeruli', 'ranking': -1},\n",
       "   {'name': 'khinkali with cheese', 'ranking': -1},\n",
       "   {'name': 'khinkali with meat', 'ranking': -1}],\n",
       "  'rating': 5,\n",
       "  'date': 1742291482,\n",
       "  'url': None,\n",
       "  'author_url': 'https://www.google.com/maps/contrib/113918346552918994721/reviews',\n",
       "  'language': 'en'}]"
      ]
     },
     "execution_count": 10,
     "metadata": {},
     "output_type": "execute_result"
    }
   ],
   "source": [
    "r4_reviews"
   ]
  },
  {
   "cell_type": "code",
   "execution_count": null,
   "id": "649be977",
   "metadata": {},
   "outputs": [
    {
     "data": {
      "text/plain": [
       "[{'name': 'adjapsand',\n",
       "  'ranking': -1,\n",
       "  'author': 'Nika Chugoshvili',\n",
       "  'url': 'https://www.google.com/maps/contrib/109702310661589209222/reviews',\n",
       "  'date': 1751374444,\n",
       "  'source': 'google'},\n",
       " {'name': 'adapsandali',\n",
       "  'ranking': -1,\n",
       "  'author': 'Nika Chugoshvili',\n",
       "  'url': 'https://www.google.com/maps/contrib/109702310661589209222/reviews',\n",
       "  'date': 1751374444,\n",
       "  'source': 'google'},\n",
       " {'name': 'mini georgian bread',\n",
       "  'ranking': -1,\n",
       "  'author': 'Nika Chugoshvili',\n",
       "  'url': 'https://www.google.com/maps/contrib/109702310661589209222/reviews',\n",
       "  'date': 1751374444,\n",
       "  'source': 'google'},\n",
       " {'name': 'none',\n",
       "  'ranking': -1,\n",
       "  'author': 'Gaia Tassinari',\n",
       "  'url': 'https://www.google.com/maps/contrib/113896279646697196969/reviews',\n",
       "  'date': 1755459365,\n",
       "  'source': 'google'},\n",
       " {'name': 'none',\n",
       "  'ranking': -1,\n",
       "  'author': 'Steven Tice',\n",
       "  'url': 'https://www.google.com/maps/contrib/102575073644000772513/reviews',\n",
       "  'date': 1757104922,\n",
       "  'source': 'google'},\n",
       " {'name': 'dumplings',\n",
       "  'ranking': -1,\n",
       "  'author': 'Nick Orloff',\n",
       "  'url': 'https://www.google.com/maps/contrib/104526757664253701808/reviews',\n",
       "  'date': 1759490727,\n",
       "  'source': 'google'},\n",
       " {'name': 'khinkali with cheese',\n",
       "  'ranking': -1,\n",
       "  'author': 'Angelina Fedorenko',\n",
       "  'url': 'https://www.google.com/maps/contrib/113918346552918994721/reviews',\n",
       "  'date': 1742291482,\n",
       "  'source': 'google'},\n",
       " {'name': 'khachapuri imeruli',\n",
       "  'ranking': -1,\n",
       "  'author': 'Angelina Fedorenko',\n",
       "  'url': 'https://www.google.com/maps/contrib/113918346552918994721/reviews',\n",
       "  'date': 1742291482,\n",
       "  'source': 'google'}]"
      ]
     },
     "execution_count": 10,
     "metadata": {},
     "output_type": "execute_result"
    }
   ],
   "source": [
    "def flatten_and_sort_dishes(reviews):\n",
    "    \"\"\"\n",
    "    Extracts all dishes from a list of reviews and returns\n",
    "    them as a flat, sorted list of dicts with metadata.\n",
    "    \"\"\"\n",
    "    dish_entries = []\n",
    "\n",
    "    for review in reviews:\n",
    "        source = review.get(\"source\")\n",
    "        author = review.get(\"author\")\n",
    "        url = review.get(\"url\")\n",
    "        date = review.get(\"date\")\n",
    "\n",
    "        for dish in review.get(\"dishes\", []):\n",
    "            dish_entries.append({\n",
    "                \"name\": dish.get(\"name\"),\n",
    "                \"ranking\": dish.get(\"ranking\"),\n",
    "                \"author\": author,\n",
    "                \"url\": url,\n",
    "                \"date\": date,\n",
    "                \"source\": source\n",
    "            })\n",
    "\n",
    "    # Sort by ranking (None values last)\n",
    "    dish_entries.sort(key=lambda d: (d[\"ranking\"] is None, d[\"ranking\"]))\n",
    "    return dish_entries\n",
    "\n",
    "flatten_and_sort_dishes(r4_reviews)"
   ]
  }
 ],
 "metadata": {
  "kernelspec": {
   "display_name": ".venv",
   "language": "python",
   "name": "python3"
  },
  "language_info": {
   "codemirror_mode": {
    "name": "ipython",
    "version": 3
   },
   "file_extension": ".py",
   "mimetype": "text/x-python",
   "name": "python",
   "nbconvert_exporter": "python",
   "pygments_lexer": "ipython3",
   "version": "3.11.3"
  }
 },
 "nbformat": 4,
 "nbformat_minor": 5
}
