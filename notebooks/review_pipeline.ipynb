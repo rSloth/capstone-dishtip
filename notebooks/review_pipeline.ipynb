{
 "cells": [
  {
   "cell_type": "code",
   "execution_count": 1,
   "id": "756095dc",
   "metadata": {},
   "outputs": [
    {
     "name": "stderr",
     "output_type": "stream",
     "text": [
      "Device set to use cpu\n",
      "The following generation flags are not valid and may be ignored: ['temperature']. Set `TRANSFORMERS_VERBOSITY=info` for more details.\n"
     ]
    }
   ],
   "source": [
    "# set correct path for imports for this notebook\n",
    "import sys, os\n",
    "sys.path.append(os.path.abspath(os.path.join(os.getcwd(), \"..\")))\n",
    "\n",
    "# external imports \n",
    "from transformers import AutoTokenizer, AutoModelForTokenClassification\n",
    "from transformers import pipeline\n",
    "\n",
    "# local imports\n",
    "from src.fetch.google import get_place_reviews, get_place_reviews_de, get_place_id, get_rest_info\n",
    "from src.nlp.dish_extractor import extract_dishes\n",
    "from src.normalise.normaliser import normalise_review\n",
    "from src.ranking.functions import assign_rankings   "
   ]
  },
  {
   "cell_type": "code",
   "execution_count": 2,
   "id": "350c0680",
   "metadata": {},
   "outputs": [],
   "source": [
    "class Restaurant():\n",
    "    def __init__(self, place_id):\n",
    "        self.id = place_id\n",
    "        \n",
    "        #fetching restaurant info\n",
    "        info = get_rest_info(place_id)\n",
    "        self.name = info.get(\"name\")\n",
    "        self.address = info.get(\"address\")\n",
    "        self.id_check = info.get(\"id\")\n",
    "        \n",
    "        #check if fetch worked\n",
    "        if str(place_id).strip() != str(self.id_check).strip():\n",
    "            raise ValueError(f\"Restaurant ID mismatch: {place_id} vs {self.id_check}\")\n",
    "        \n",
    "        #putting in placeholders for important later info\n",
    "        self.reviews = []\n",
    "        self.google_url = \"\"\n",
    "        self.homepage_url = \"\"\n",
    "        self.menu_url = \"\""
   ]
  },
  {
   "cell_type": "code",
   "execution_count": 3,
   "id": "be19ec13",
   "metadata": {},
   "outputs": [
    {
     "name": "stdout",
     "output_type": "stream",
     "text": [
      "--- RESTAURANT DETAILS ---\n",
      "FunkyFisch\n",
      "Kantstraße 135-136, 10625 Berlin, Deutschland\n",
      "ChIJU7-KvONQqEcRCmPCCvo-Fg4\n",
      "--- END ---\n",
      " \n",
      "--- RESTAURANT DETAILS ---\n",
      "Standard Serious Pizza Charlottenburg\n",
      "Schlüterstraße 63, 10625 Berlin, Deutschland\n",
      "ChIJc2uwDI1RqEcRfAsy3YxyfIY\n",
      "--- END ---\n",
      " \n",
      "--- RESTAURANT DETAILS ---\n",
      "Borchardt\n",
      "Französische Str. 47, 10117 Berlin, Deutschland\n",
      "ChIJVfEmINtRqEcRsch0pslaanQ\n",
      "--- END ---\n",
      " \n"
     ]
    },
    {
     "data": {
      "text/plain": [
       "'ChIJU7-KvONQqEcRCmPCCvo-Fg4'"
      ]
     },
     "execution_count": 3,
     "metadata": {},
     "output_type": "execute_result"
    }
   ],
   "source": [
    "r1_id = get_place_id(\"funkyfish berlin\")\n",
    "r2_id = get_place_id(\"standard pizza west berlin\")\n",
    "r3_id = get_place_id(\"borschert berlin\")\n",
    "\n",
    "r1_id "
   ]
  },
  {
   "cell_type": "code",
   "execution_count": 4,
   "id": "0f7156c0",
   "metadata": {},
   "outputs": [
    {
     "name": "stdout",
     "output_type": "stream",
     "text": [
      "✅ Google reviews retrieved, found 5 reviews for FunkyFisch\n",
      " \n",
      "✅ Google reviews retrieved, found 5 reviews for Standard Pizza West\n",
      " \n",
      "✅ Google reviews retrieved, found 5 reviews for Borchardt\n",
      " \n"
     ]
    }
   ],
   "source": [
    "r1_reviews = get_place_reviews(r1_id)\n",
    "r2_reviews = get_place_reviews(r2_id)\n",
    "r3_reviews = get_place_reviews(r3_id)\n",
    "\n",
    "# German reviews (don't work well with T5)\n",
    "r1_de_reviews = get_place_reviews_de(r1_id)\n",
    "r3_de_reviews = get_place_reviews_de(r3_id)"
   ]
  },
  {
   "cell_type": "code",
   "execution_count": 5,
   "id": "1a5cc6b6",
   "metadata": {},
   "outputs": [
    {
     "data": {
      "text/plain": [
       "[{'id': None,\n",
       "  'source': 'google',\n",
       "  'author': 'S. K.',\n",
       "  'text': 'Don’t get distracted by the name :)\\nIt’s a very cool, casual, but also a touch of a fancy place!\\nThe display of fish looks really nice, and fresh! The price setting feels a little bit higher than excpected, but overall I would recommend this place and be a regular here.',\n",
       "  'dishes': None,\n",
       "  'google_rating': None,\n",
       "  'date': 1757272895,\n",
       "  'url': 'https://www.google.com/maps/contrib/104531257652878694334/reviews',\n",
       "  'language': 'en'},\n",
       " {'id': None,\n",
       "  'source': 'google',\n",
       "  'author': 'Dasha Work',\n",
       "  'text': 'It was an amazing experience! The service in this restaurant is the best from what I saw in Germany so far.\\n\\nThey proposed me to have an extra meal for free because I didn’t enjoy a soup (not because it was bad, but because it wasn’t for my taste). I said that I’ll take 2 oysters instead, and the waiter said he will bring 3 :) when he came back, he brought 4 oysters for me for free… I was amazed.\\n\\nAlso the waiters answered all our questions, were very nice and caring. It was such an experience. 💛',\n",
       "  'dishes': None,\n",
       "  'google_rating': None,\n",
       "  'date': 1749309918,\n",
       "  'url': 'https://www.google.com/maps/contrib/101978854109515405601/reviews',\n",
       "  'language': 'en'},\n",
       " {'id': None,\n",
       "  'source': 'google',\n",
       "  'author': 'Jonas Salloum',\n",
       "  'text': 'We visited Funky Fisch yesterday evening and had a thoroughly enjoyable experience. The service was efficient and genuinely welcoming — despite arriving nearly 20 minutes late, we were greeted with warmth and made to feel at ease right away. The menu is concise, featuring a thoughtfully curated selection of dishes that makes choosing both straightforward and satisfying.\\nThe wine list is extensive, with an impressive array of non-alcoholic options as well. The food itself was outstanding — fresh, beautifully presented, and bursting with flavor. It’s the kind of place where, as you settle the bill, you’re already imagining your next visit and wondering about the dishes you didn’t try this time. Highly recommended!',\n",
       "  'dishes': None,\n",
       "  'google_rating': None,\n",
       "  'date': 1749017808,\n",
       "  'url': 'https://www.google.com/maps/contrib/111305511244963075191/reviews',\n",
       "  'language': 'en'},\n",
       " {'id': None,\n",
       "  'source': 'google',\n",
       "  'author': 'UnDiplomatic Wife',\n",
       "  'text': 'The food was absolutely delicious. There was one English speaking waiter who made great recommendations.\\n\\nThe food is eclectic but everything makes sense together. We ordered a little too much but we were stuffed and happy.\\n\\nThe coffee and dessert were so delicious! I can highly recommend this restaurant and everything we ordered (see pic captions) was amazing!\\n\\nThis places is great for special celebrations as it is a little more pricey than what is normal in Berlin. We went to celebrate our friend’s birthday.',\n",
       "  'dishes': None,\n",
       "  'google_rating': None,\n",
       "  'date': 1719995912,\n",
       "  'url': 'https://www.google.com/maps/contrib/116951825885613414699/reviews',\n",
       "  'language': 'en'},\n",
       " {'id': None,\n",
       "  'source': 'google',\n",
       "  'author': 'Theresa Hayes',\n",
       "  'text': 'After 8 nights in Berlin, this has been the best dining experience. After too many heavy meat dishes the delight of fresh seafood on display and knowledgeable service staff guided us through a great food experience. Wish I had found this place earlier in my trip. Special mention to Tzunami! Handsomely guided us through the menu. X',\n",
       "  'dishes': None,\n",
       "  'google_rating': None,\n",
       "  'date': 1761070429,\n",
       "  'url': 'https://www.google.com/maps/contrib/100155504654552486944/reviews',\n",
       "  'language': 'en'}]"
      ]
     },
     "execution_count": 5,
     "metadata": {},
     "output_type": "execute_result"
    }
   ],
   "source": [
    "r1_reviews"
   ]
  },
  {
   "cell_type": "code",
   "execution_count": 6,
   "id": "638af345",
   "metadata": {},
   "outputs": [
    {
     "name": "stdout",
     "output_type": "stream",
     "text": [
      "📝 We made a reservation at this German restaurant for lunch. The service was okay, but our main dishes were left out initially.\n",
      "\n",
      "The tartar and schnitzel were delicious, and the portions were generous. However, the seasonal menu of the deer was average.\n",
      "🍽️ ['schnitzel', 'tartar', 'schnitzel']\n",
      "\n",
      "📝 Borchardt is an exceptional place to celebrate special occasions or have a date. Perfect german food, made of high-quality ingredients, in combination with sweet cocktail and freshly-made bread will gift you one of the best gastronomical experiences of your whole life. Atmosphere is quite fancy, and the food prices are higher than in ordinary places in Berlin, and it is totally justified, given the history of the place and the level of service.\n",
      "And all I would say — it is definitely worth every spent euro! I would like to visit this place one more time (or ten times more)\n",
      "Would definitely recommend!\n",
      "P.s. highly recommend to book a table in advance\n",
      "🍽️ [\"'borchardt'\", \"'borchardt'\", \"'\"]\n",
      "\n",
      "📝 Borchardt is a true Berlin classic! We had the Wiener Schnitzel – golden, crispy, and absolutely delicious – and the steak tartare, which had a fresh and original flavor. The atmosphere is elegant yet welcoming, perfect for a relaxed evening. Prices are a bit high, but for the taste and experience, it’s definitely worth it!\n",
      "🍽️ ['wiener schnitzel', 'steak tartare']\n",
      "\n",
      "📝 Traditional  german restaurant.  Service was very nice. I had the famous veal schnitzel, with cranberries and hot potato salad. Prices on the higher end, but worth every euro.\n",
      "🍽️ ['veal schnitzel', 'with cranberries', 'hot potato salad']\n",
      "\n",
      "📝 I tried cod for the first time instead of schnitzel, and I received a great recommendation for an alcohol-free Riesling. Overall, it was an okay experience, but I found it to be overpriced for the quality of the food. It seems that the pricing is more about the location and status than the quality of the meal itself.\n",
      "🍽️ ['schnitzel', 'cod', 'riesling']\n",
      "\n"
     ]
    }
   ],
   "source": [
    "extract_dishes(r3_reviews, True)"
   ]
  },
  {
   "cell_type": "code",
   "execution_count": 7,
   "id": "498fa37b",
   "metadata": {},
   "outputs": [
    {
     "name": "stdout",
     "output_type": "stream",
     "text": [
      "Assigned ranking -1 to dish 'schnitzel' in review ID 0\n",
      "Assigned ranking -1 to dish 'tartar' in review ID 0\n",
      "Assigned ranking -1 to dish ''' in review ID 1\n",
      "Assigned ranking -1 to dish ''borchardt'' in review ID 1\n",
      "Assigned ranking -1 to dish 'wiener schnitzel' in review ID 2\n",
      "Assigned ranking -1 to dish 'steak tartare' in review ID 2\n",
      "Assigned ranking -1 to dish 'with cranberries' in review ID 3\n",
      "Assigned ranking -1 to dish 'hot potato salad' in review ID 3\n",
      "Assigned ranking -1 to dish 'veal schnitzel' in review ID 3\n",
      "Assigned ranking -1 to dish 'schnitzel' in review ID 4\n",
      "Assigned ranking -1 to dish 'cod' in review ID 4\n",
      "Assigned ranking -1 to dish 'riesling' in review ID 4\n"
     ]
    }
   ],
   "source": [
    "assign_rankings(r3_reviews, True)"
   ]
  },
  {
   "cell_type": "code",
   "execution_count": 8,
   "id": "5278f1bd",
   "metadata": {},
   "outputs": [
    {
     "data": {
      "text/plain": [
       "[{'id': 0,\n",
       "  'source': 'google',\n",
       "  'author': 'Y T',\n",
       "  'text': 'We made a reservation at this German restaurant for lunch. The service was okay, but our main dishes were left out initially.\\n\\nThe tartar and schnitzel were delicious, and the portions were generous. However, the seasonal menu of the deer was average.',\n",
       "  'dishes': [{'name': 'schnitzel', 'ranking': -1},\n",
       "   {'name': 'tartar', 'ranking': -1}],\n",
       "  'google_rating': None,\n",
       "  'date': 1760791579,\n",
       "  'url': 'https://www.google.com/maps/contrib/109004833449592474577/reviews',\n",
       "  'language': 'en'},\n",
       " {'id': 1,\n",
       "  'source': 'google',\n",
       "  'author': 'Олександра Карасьова',\n",
       "  'text': 'Borchardt is an exceptional place to celebrate special occasions or have a date. Perfect german food, made of high-quality ingredients, in combination with sweet cocktail and freshly-made bread will gift you one of the best gastronomical experiences of your whole life. Atmosphere is quite fancy, and the food prices are higher than in ordinary places in Berlin, and it is totally justified, given the history of the place and the level of service.\\nAnd all I would say — it is definitely worth every spent euro! I would like to visit this place one more time (or ten times more)\\nWould definitely recommend!\\nP.s. highly recommend to book a table in advance',\n",
       "  'dishes': [{'name': \"'\", 'ranking': -1},\n",
       "   {'name': \"'borchardt'\", 'ranking': -1}],\n",
       "  'google_rating': None,\n",
       "  'date': 1760206989,\n",
       "  'url': 'https://www.google.com/maps/contrib/103026062957225795450/reviews',\n",
       "  'language': 'en'},\n",
       " {'id': 2,\n",
       "  'source': 'google',\n",
       "  'author': 'SEZER BULUT',\n",
       "  'text': 'Borchardt is a true Berlin classic! We had the Wiener Schnitzel – golden, crispy, and absolutely delicious – and the steak tartare, which had a fresh and original flavor. The atmosphere is elegant yet welcoming, perfect for a relaxed evening. Prices are a bit high, but for the taste and experience, it’s definitely worth it!',\n",
       "  'dishes': [{'name': 'wiener schnitzel', 'ranking': -1},\n",
       "   {'name': 'steak tartare', 'ranking': -1}],\n",
       "  'google_rating': None,\n",
       "  'date': 1759520444,\n",
       "  'url': 'https://www.google.com/maps/contrib/110446587101289100151/reviews',\n",
       "  'language': 'en'},\n",
       " {'id': 3,\n",
       "  'source': 'google',\n",
       "  'author': 'Anna Mas',\n",
       "  'text': 'Traditional  german restaurant.  Service was very nice. I had the famous veal schnitzel, with cranberries and hot potato salad. Prices on the higher end, but worth every euro.',\n",
       "  'dishes': [{'name': 'with cranberries', 'ranking': -1},\n",
       "   {'name': 'hot potato salad', 'ranking': -1},\n",
       "   {'name': 'veal schnitzel', 'ranking': -1}],\n",
       "  'google_rating': None,\n",
       "  'date': 1759225146,\n",
       "  'url': 'https://www.google.com/maps/contrib/103393040086291469216/reviews',\n",
       "  'language': 'en'},\n",
       " {'id': 4,\n",
       "  'source': 'google',\n",
       "  'author': 'Rebeca Kodaira',\n",
       "  'text': 'I tried cod for the first time instead of schnitzel, and I received a great recommendation for an alcohol-free Riesling. Overall, it was an okay experience, but I found it to be overpriced for the quality of the food. It seems that the pricing is more about the location and status than the quality of the meal itself.',\n",
       "  'dishes': [{'name': 'schnitzel', 'ranking': -1},\n",
       "   {'name': 'cod', 'ranking': -1},\n",
       "   {'name': 'riesling', 'ranking': -1}],\n",
       "  'google_rating': None,\n",
       "  'date': 1758006827,\n",
       "  'url': 'https://www.google.com/maps/contrib/108193114983184998941/reviews',\n",
       "  'language': 'en'}]"
      ]
     },
     "execution_count": 8,
     "metadata": {},
     "output_type": "execute_result"
    }
   ],
   "source": [
    "r3_reviews"
   ]
  },
  {
   "cell_type": "code",
   "execution_count": 9,
   "id": "649be977",
   "metadata": {},
   "outputs": [
    {
     "data": {
      "text/plain": [
       "[{'name': 'schnitzel',\n",
       "  'ranking': -1,\n",
       "  'author': 'Y T',\n",
       "  'url': 'https://www.google.com/maps/contrib/109004833449592474577/reviews',\n",
       "  'date': 1760791579,\n",
       "  'source': 'google'},\n",
       " {'name': 'tartar',\n",
       "  'ranking': -1,\n",
       "  'author': 'Y T',\n",
       "  'url': 'https://www.google.com/maps/contrib/109004833449592474577/reviews',\n",
       "  'date': 1760791579,\n",
       "  'source': 'google'},\n",
       " {'name': \"'\",\n",
       "  'ranking': -1,\n",
       "  'author': 'Олександра Карасьова',\n",
       "  'url': 'https://www.google.com/maps/contrib/103026062957225795450/reviews',\n",
       "  'date': 1760206989,\n",
       "  'source': 'google'},\n",
       " {'name': \"'borchardt'\",\n",
       "  'ranking': -1,\n",
       "  'author': 'Олександра Карасьова',\n",
       "  'url': 'https://www.google.com/maps/contrib/103026062957225795450/reviews',\n",
       "  'date': 1760206989,\n",
       "  'source': 'google'},\n",
       " {'name': 'wiener schnitzel',\n",
       "  'ranking': -1,\n",
       "  'author': 'SEZER BULUT',\n",
       "  'url': 'https://www.google.com/maps/contrib/110446587101289100151/reviews',\n",
       "  'date': 1759520444,\n",
       "  'source': 'google'},\n",
       " {'name': 'steak tartare',\n",
       "  'ranking': -1,\n",
       "  'author': 'SEZER BULUT',\n",
       "  'url': 'https://www.google.com/maps/contrib/110446587101289100151/reviews',\n",
       "  'date': 1759520444,\n",
       "  'source': 'google'},\n",
       " {'name': 'with cranberries',\n",
       "  'ranking': -1,\n",
       "  'author': 'Anna Mas',\n",
       "  'url': 'https://www.google.com/maps/contrib/103393040086291469216/reviews',\n",
       "  'date': 1759225146,\n",
       "  'source': 'google'},\n",
       " {'name': 'hot potato salad',\n",
       "  'ranking': -1,\n",
       "  'author': 'Anna Mas',\n",
       "  'url': 'https://www.google.com/maps/contrib/103393040086291469216/reviews',\n",
       "  'date': 1759225146,\n",
       "  'source': 'google'},\n",
       " {'name': 'veal schnitzel',\n",
       "  'ranking': -1,\n",
       "  'author': 'Anna Mas',\n",
       "  'url': 'https://www.google.com/maps/contrib/103393040086291469216/reviews',\n",
       "  'date': 1759225146,\n",
       "  'source': 'google'},\n",
       " {'name': 'schnitzel',\n",
       "  'ranking': -1,\n",
       "  'author': 'Rebeca Kodaira',\n",
       "  'url': 'https://www.google.com/maps/contrib/108193114983184998941/reviews',\n",
       "  'date': 1758006827,\n",
       "  'source': 'google'},\n",
       " {'name': 'cod',\n",
       "  'ranking': -1,\n",
       "  'author': 'Rebeca Kodaira',\n",
       "  'url': 'https://www.google.com/maps/contrib/108193114983184998941/reviews',\n",
       "  'date': 1758006827,\n",
       "  'source': 'google'},\n",
       " {'name': 'riesling',\n",
       "  'ranking': -1,\n",
       "  'author': 'Rebeca Kodaira',\n",
       "  'url': 'https://www.google.com/maps/contrib/108193114983184998941/reviews',\n",
       "  'date': 1758006827,\n",
       "  'source': 'google'}]"
      ]
     },
     "execution_count": 9,
     "metadata": {},
     "output_type": "execute_result"
    }
   ],
   "source": [
    "def flatten_and_sort_dishes(reviews):\n",
    "    \"\"\"\n",
    "    Extracts all dishes from a list of reviews and returns\n",
    "    them as a flat, sorted list of dicts with metadata.\n",
    "    \"\"\"\n",
    "    dish_entries = []\n",
    "\n",
    "    for review in reviews:\n",
    "        source = review.get(\"source\")\n",
    "        author = review.get(\"author\")\n",
    "        url = review.get(\"url\")\n",
    "        date = review.get(\"date\")\n",
    "\n",
    "        for dish in review.get(\"dishes\", []):\n",
    "            dish_entries.append({\n",
    "                \"name\": dish.get(\"name\"),\n",
    "                \"ranking\": dish.get(\"ranking\"),\n",
    "                \"author\": author,\n",
    "                \"url\": url,\n",
    "                \"date\": date,\n",
    "                \"source\": source\n",
    "            })\n",
    "\n",
    "    # Sort by ranking (None values last)\n",
    "    dish_entries.sort(key=lambda d: (d[\"ranking\"] is None, d[\"ranking\"]))\n",
    "    return dish_entries\n",
    "\n",
    "flatten_and_sort_dishes(r3_reviews)"
   ]
  }
 ],
 "metadata": {
  "kernelspec": {
   "display_name": ".venv",
   "language": "python",
   "name": "python3"
  },
  "language_info": {
   "codemirror_mode": {
    "name": "ipython",
    "version": 3
   },
   "file_extension": ".py",
   "mimetype": "text/x-python",
   "name": "python",
   "nbconvert_exporter": "python",
   "pygments_lexer": "ipython3",
   "version": "3.11.3"
  }
 },
 "nbformat": 4,
 "nbformat_minor": 5
}
